{
 "cells": [
  {
   "cell_type": "markdown",
   "id": "cbcddba5",
   "metadata": {},
   "source": [
    "<div style=\"width: 100%; margin-left: auto; margin-right: auto;\">\n",
    "    <h2 style=\"text-align: center; margin-top: 1%; font-size:32px;\">Avaliação de Desempenho - Atividade 5</h2>\n",
    "</div>"
   ]
  },
  {
   "cell_type": "markdown",
   "id": "2c002112",
   "metadata": {},
   "source": [
    "**Aluno:** Igor Carvalho da Silva  \n",
    "**Email:** igor.carvalho@icomp.ufam.edu.br  \n",
    "**Matrícula:** 21951288  \n",
    "\n",
    "---"
   ]
  },
  {
   "cell_type": "markdown",
   "id": "0bfda650",
   "metadata": {},
   "source": [
    "## Introdução\n",
    "As filas têm uma frequente incidência no cotidiano, seja de uma forma mais perceptível como na compra de ingressos para um show ou cinema, em uma sala de espera de um consultório, ou ainda, de uma forma menos perceptível como no gerenciamento de documentos a serem impressos ou no buffer para gravação de dados em mídia. As filas são fenômenos naturais em um mundo compartilhado, além de ser uma das estruturas de dados mais utilizada na área de Computação.\n",
    "\n",
    "Nesta atividade simulamos a dinâmica de uma fila M/M/1 a fim de estimar o tempo médio $\\bar{X}(n)$ de espera de um cliente na fila. Para isso, foi realizada uma Simulação de Horizonte Infinito, onde o fim da simulação ocorre quando uma determinada condição acontece, neste experimento foi usado o Tamanho Relativo que leva em consideração o tamanho relativo do intervalo de confiança em relação ao valor sendo estimado.\n",
    "\n",
    "Devido a inicialização arbitrária dos parâmetros de configuração do modelo de simulação é introduzido um viés nos estimadores que pode ser reduzido se eliminarmos as observações coletadas no estado transiente. Dessa forma, aplicou-se a heurística MSER-5Y para encontrar o fim do transiente, preservando o máximo da sequência original.\n",
    "\n",
    "Porém surge um outro viés, as observações restantes, denominadas de estado estacionário, possuem forte correlação entre si o que introduz viés na estimativa final da média , nossa métrica de interesse. Com isso, neste experimento é proposto usarmos abordagens utilizando Séries Temporais Padronizadas (STS), sendo elas STS/AREA e STS/CSUM. Além disso, também são realizadas simulações para o método Batch Means e o Overlapping Batch Means afim de conseguirmos fazer uma análise comparativa entre os quatros métodos.  \n",
    "\n",
    "## Experimento\n",
    "* Executar uma simulação de horizonte infinito da fila M/M/1.\n",
    "* Eliminar o transiente usando a heurística MSER-5Y.\n",
    "* Usar o método STS/AREA para estimar o tempo médio de espera na fila e o respectivo intervalo de confiança de 95%.\n",
    "* A regra de parada é a precisão relativa de 5%.  \n",
    "    * Cenário    I:  λ=7 clientes por segundo; μ=10 clientes por segundo.  \n",
    "    * Cenário   II:  λ=8 clientes por segundo; μ=10 clientes por segundo.  \n",
    "    * Cenário  III:  λ=9 clientes por segundo; μ=10 clientes por segundo.  \n",
    "    * Cenário IV:  λ=9,5 clientes por segundo; μ=10 clientes por segundo.  \n",
    "* Plotar um gráfico comparativo dos quatro cenários.\n",
    "* Plotar uma linha horizontal para o valor teórico esperado em cada cenário.\n",
    "* Repetir para STS/CSUM.\n",
    "\n",
    "* Plotar um gráfico comparativo dos quatro métodos de análise:\n",
    "    NBM, OBM, STS/AREA, STS/CSUM.\n",
    "* Utilize apenas os resultados do cenário IV de cada um dos métodos.\n",
    "    λ=9,5 clientes por segundo; μ=10 clientes por segundo.\n",
    "* Faça uma análise comparativa.  \n",
    "\n",
    "### Dependências\n",
    "Para reproduzir o experimento é necessário ter o `pip` instalado ou já possuir as bibliotecas instaladas."
   ]
  },
  {
   "cell_type": "code",
   "execution_count": null,
   "id": "b632bfbe",
   "metadata": {},
   "outputs": [],
   "source": [
    "!pip3 install numpy\n",
    "!pip3 install tqdm\n",
    "!pip3 install scipy\n",
    "!pip3 install statistics\n",
    "!pip3 install matplotlib"
   ]
  },
  {
   "cell_type": "markdown",
   "id": "22bd745d",
   "metadata": {},
   "source": [
    "### Imports"
   ]
  },
  {
   "cell_type": "code",
   "execution_count": 1,
   "id": "beb06517",
   "metadata": {},
   "outputs": [],
   "source": [
    "import random\n",
    "import numpy as np\n",
    "import matplotlib.pyplot as plt\n",
    "from statistics import pstdev\n",
    "from scipy.stats import t, shapiro\n",
    "from math import sqrt, ceil\n",
    "from tqdm import tqdm"
   ]
  },
  {
   "cell_type": "markdown",
   "id": "ec389573",
   "metadata": {},
   "source": [
    "### Funções"
   ]
  },
  {
   "cell_type": "code",
   "execution_count": 2,
   "id": "e14760b2",
   "metadata": {},
   "outputs": [],
   "source": [
    "def generate_exponential_VA(beta):\n",
    "    return -beta * np.log(1-random.random())\n",
    "\n",
    "def waiting_times_generator(N, lambda_, mu, debug=False):\n",
    "    arrival_time = 0\n",
    "    exit_time = 0\n",
    "    waiting_times = []\n",
    "    if debug:\n",
    "        print(f'Simulação para {N} clientes')\n",
    "\n",
    "    for _ in tqdm(range(N), disable=not debug):\n",
    "        arrival_time += generate_exponential_VA(1/lambda_)\n",
    "        service_time = generate_exponential_VA(1/mu)\n",
    "\n",
    "        if arrival_time >= exit_time:\n",
    "            waiting_times.append(0)\n",
    "            exit_time = arrival_time + service_time\n",
    "        else:\n",
    "            waiting_times.append(exit_time - arrival_time)\n",
    "            exit_time += service_time\n",
    "\n",
    "    return waiting_times\n",
    "\n",
    "def mser5(k,d,z):\n",
    "    z_mean = round(sum(z[d:k])/(k-d),5)\n",
    "    variance = sum([(zj-z_mean)**2 for zj in z[d:k]])/(k-d)\n",
    "    std_deviation = sqrt(variance)\n",
    "    \n",
    "    return std_deviation/sqrt(k-d)\n",
    "\n",
    "def mser_validation(results, progress):\n",
    "    mser_left = results[:-progress]\n",
    "    mser_right = results[-progress:]\n",
    "    \n",
    "    mser_left.sort()\n",
    "    if(mser_left[0][0] == mser_left[1][0]):\n",
    "        return (False, -1)\n",
    "    \n",
    "    mser_right.sort()\n",
    "    if(mser_right[0][0] < mser_left[0][0]):\n",
    "        return (False, -1)\n",
    "    \n",
    "    return (True, mser_left[0][1])\n",
    "    \n",
    "def mser5y(observations, progress=0.0):\n",
    "    results = []\n",
    "    k = len(observations)//5\n",
    "    z_series = [np.mean(observations[i:i+5]) for i in range(0, len(observations), 5)]\n",
    "    \n",
    "    right_blocks = ceil(k*progress)\n",
    "    for d in range(k//2 + right_blocks):\n",
    "        results.append((mser5(k,d,z_series),d))\n",
    "    \n",
    "    is_valid, trunc_point = mser_validation(results, right_blocks)\n",
    "    \n",
    "    if is_valid:\n",
    "        return trunc_point*5\n",
    "    else:\n",
    "        return -1\n",
    "        \n",
    "def plot_graph(results, expected_results):\n",
    "    fig, ax = plt.subplots()\n",
    "\n",
    "    avgs, error_margin = zip(*results)\n",
    "    colors = ['red', 'blue', 'green', 'brown']\n",
    "    x = [1,2,3,4]\n",
    "\n",
    "    for pos, y, err, color, expected in zip(x, avgs, error_margin, colors, expected_means): \n",
    "        ax.errorbar(pos, y, yerr=err, fmt='o', c=color, mec='black', ms=7, ecolor='black', capsize=5)\n",
    "        ax.axhline(y=expected, c=color, linestyle='--', label=f'Média esperada C-{pos}')\n",
    "\n",
    "    plt.xticks(x, ['C-1','C-2','C-3','C-4'])\n",
    "    plt.margins(0.2)\n",
    "    plt.ylabel('Tempo médio de espera', fontsize=14)\n",
    "    plt.xlabel('Cenários', fontsize=14)\n",
    "    plt.legend(loc='center left', bbox_to_anchor=(1, 0.5))\n",
    "\n",
    "    plt.show()\n",
    "    \n",
    "def batch_means(observations, b, m, overlap=0):\n",
    "    block_means = []\n",
    "    \n",
    "    if overlap == 0:\n",
    "        overlap = m\n",
    "    \n",
    "    for i in range(b):\n",
    "        i = i*overlap\n",
    "        block = observations[i:i+m]\n",
    "        block_means.append(sum(block)/m)\n",
    "    \n",
    "    return block_means\n",
    "\n",
    "def von_neuman_test(block_means, critical_value=1.29):\n",
    "    b = len(block_means)\n",
    "    r = [0]*b\n",
    "    for i, mean in enumerate(block_means):\n",
    "        for next_ in block_means:\n",
    "            if next_ <= mean:\n",
    "                r[i] += 1\n",
    "\n",
    "    r_mean = sum(r)/b\n",
    "    rnv = sum([(r[i]-r[i+1])**2 for i in range(b-1)])/sum([(ri - r_mean)**2 for ri in r])\n",
    "    \n",
    "    return rnv < critical_value\n",
    "\n",
    "def sts(observations, b, m):\n",
    "    block_representatives = []\n",
    "    \n",
    "    for i in range(b):\n",
    "        block = observations[i*m:i*m+m]\n",
    "        block_representatives.append(sum([((m+1)/2-(j+1))*b for j, b in enumerate(block)]))\n",
    "        \n",
    "    return block_representatives"
   ]
  },
  {
   "cell_type": "markdown",
   "id": "729c6048",
   "metadata": {},
   "source": [
    "### Constantes"
   ]
  },
  {
   "cell_type": "code",
   "execution_count": 3,
   "id": "4e7e67ae",
   "metadata": {},
   "outputs": [],
   "source": [
    "#(lambda, mu)\n",
    "scenarios = [\n",
    "    (1, 7, 10),\n",
    "    (2, 8, 10),\n",
    "    (3, 9, 10),\n",
    "    (4, 9.5, 10)\n",
    "]\n",
    "expected_means = [lambda_/mu*((1/mu)/(1-lambda_/mu)) for _, lambda_, mu in scenarios]"
   ]
  },
  {
   "cell_type": "code",
   "execution_count": 4,
   "id": "8cb545c8",
   "metadata": {},
   "outputs": [],
   "source": [
    "scenario4_results = []"
   ]
  },
  {
   "cell_type": "markdown",
   "id": "1c8e1d89",
   "metadata": {},
   "source": [
    "### STS/AREA "
   ]
  },
  {
   "cell_type": "code",
   "execution_count": 5,
   "id": "5bb97eae",
   "metadata": {},
   "outputs": [
    {
     "name": "stdout",
     "output_type": "stream",
     "text": [
      "Cenário 1\n",
      "Iniciando fase transiente\n",
      "Iniciando fase correlação\n",
      "Iniciando fase de estimação\n",
      "----------\n",
      "Cenário 2\n",
      "Iniciando fase transiente\n",
      "Iniciando fase correlação\n",
      "Iniciando fase de estimação\n",
      "----------\n",
      "Cenário 3\n",
      "Iniciando fase transiente\n",
      "Iniciando fase correlação\n",
      "Iniciando fase de estimação\n",
      "----------\n",
      "Cenário 4\n",
      "Iniciando fase transiente\n",
      "Iniciando fase correlação\n",
      "Iniciando fase de estimação\n",
      "----------\n"
     ]
    }
   ],
   "source": [
    "results = []\n",
    "for i, lambda_, mu in scenarios:\n",
    "    print(f'Cenário {i}')\n",
    "    b = 20\n",
    "    m = 100\n",
    "    waiting_times = []\n",
    "\n",
    "    print('Iniciando fase transiente')\n",
    "    while True:\n",
    "        waiting_times += waiting_times_generator(b*m - len(waiting_times), lambda_, mu)\n",
    "        trunc_point = mser5y(waiting_times, progress=0.01)\n",
    "\n",
    "        if trunc_point != -1:\n",
    "            waiting_times = waiting_times[trunc_point:]\n",
    "            break;\n",
    "        m += 100\n",
    "        \n",
    "    if len(waiting_times) < b*m:\n",
    "        waiting_times += waiting_times_generator(b*m - len(waiting_times), lambda_, mu)\n",
    "                \n",
    "    print('Iniciando fase correlação')\n",
    "    block_representatives = sts(waiting_times, b, m)\n",
    "    while shapiro(block_representatives).pvalue < 0.05:\n",
    "        m += 100\n",
    "        waiting_times += waiting_times_generator(b*m - len(waiting_times), lambda_, mu)\n",
    "        block_representatives = sts(waiting_times, b, m)\n",
    "    \n",
    "    print('Iniciando fase de estimação')\n",
    "    while True:\n",
    "        mean = np.mean(waiting_times)\n",
    "        t_ = t.ppf(1-0.05/2, b)\n",
    "        h = t_*sqrt(12*sum([a**2/(((m*b)**2)*(m**2-1)) for a in block_representatives])) \n",
    "        \n",
    "        relative_size = h/mean\n",
    "    \n",
    "        if relative_size <= 0.05:\n",
    "            break;\n",
    "        \n",
    "        m += 100\n",
    "        waiting_times += waiting_times_generator(b*m - len(waiting_times), lambda_, mu)\n",
    "        block_representatives = sts(waiting_times, b, m)\n",
    "    results.append((mean, h))\n",
    "    print('-'*10)"
   ]
  },
  {
   "cell_type": "code",
   "execution_count": 6,
   "id": "cf09f295",
   "metadata": {},
   "outputs": [],
   "source": [
    "scenario4_results.append(results[3])"
   ]
  },
  {
   "cell_type": "code",
   "execution_count": 7,
   "id": "06e5b870",
   "metadata": {},
   "outputs": [
    {
     "data": {
      "image/png": "[encoded data removed]",
      "text/plain": [
       "<Figure size 640x480 with 1 Axes>"
      ]
     },
     "metadata": {},
     "output_type": "display_data"
    }
   ],
   "source": [
    "plot_graph(results, expected_means)"
   ]
  },
  {
   "cell_type": "markdown",
   "id": "b7ce5741",
   "metadata": {},
   "source": [
    "### STS/CSUM"
   ]
  },
  {
   "cell_type": "code",
   "execution_count": 8,
   "id": "65cc33cc",
   "metadata": {},
   "outputs": [
    {
     "name": "stdout",
     "output_type": "stream",
     "text": [
      "Cenário 1\n",
      "Iniciando fase transiente\n",
      "Iniciando fase correlação\n",
      "Iniciando fase de estimação\n",
      "----------\n",
      "Cenário 2\n",
      "Iniciando fase transiente\n",
      "Iniciando fase correlação\n",
      "Iniciando fase de estimação\n",
      "----------\n",
      "Cenário 3\n",
      "Iniciando fase transiente\n",
      "Iniciando fase correlação\n",
      "Iniciando fase de estimação\n",
      "----------\n",
      "Cenário 4\n",
      "Iniciando fase transiente\n",
      "Iniciando fase correlação\n",
      "Iniciando fase de estimação\n",
      "----------\n"
     ]
    }
   ],
   "source": [
    "results = []\n",
    "for i, lambda_, mu in scenarios:\n",
    "    print(f'Cenário {i}')\n",
    "    b = 20\n",
    "    m = 100\n",
    "    waiting_times = []\n",
    "\n",
    "    print('Iniciando fase transiente')\n",
    "    while True:\n",
    "        waiting_times += waiting_times_generator(b*m - len(waiting_times), lambda_, mu)\n",
    "        trunc_point = mser5y(waiting_times, progress=0.01)\n",
    "\n",
    "        if trunc_point != -1:\n",
    "            waiting_times = waiting_times[trunc_point:]\n",
    "            break;\n",
    "        m += 100\n",
    "        \n",
    "    if len(waiting_times) < b*m:\n",
    "        waiting_times += waiting_times_generator(b*m - len(waiting_times), lambda_, mu)\n",
    "                \n",
    "    print('Iniciando fase correlação')\n",
    "    block_representatives = sts(waiting_times, b, m)\n",
    "    while shapiro(block_representatives).pvalue < 0.05:\n",
    "        m += 100\n",
    "        waiting_times += waiting_times_generator(b*m - len(waiting_times), lambda_, mu)\n",
    "        block_representatives = sts(waiting_times, b, m)\n",
    "    \n",
    "    print('Iniciando fase de estimação')\n",
    "    while True:\n",
    "        block_means = batch_means(waiting_times, b, m)\n",
    "        mean = np.mean(block_means)\n",
    "        t_ = t.ppf(1-0.05/2, 2*b-1)\n",
    "        a = sum([(12*a**2)/(m**3-m)+m*(mean - x)**2 for a, x in zip(block_representatives, block_means)])\n",
    "        h = t_*sqrt(a/((m*b)*(2*b-1)))\n",
    "        \n",
    "        relative_size = h/mean\n",
    "    \n",
    "        if relative_size <= 0.05:\n",
    "            break;\n",
    "        \n",
    "        m += 100\n",
    "        waiting_times += waiting_times_generator(b*m - len(waiting_times), lambda_, mu)\n",
    "        block_representatives = sts(waiting_times, b, m)\n",
    "    results.append((mean, h))\n",
    "    print('-'*10)"
   ]
  },
  {
   "cell_type": "code",
   "execution_count": 9,
   "id": "c6bb20a2",
   "metadata": {},
   "outputs": [],
   "source": [
    "scenario4_results.append(results[3])"
   ]
  },
  {
   "cell_type": "code",
   "execution_count": 10,
   "id": "d21c8820",
   "metadata": {},
   "outputs": [
    {
     "data": {
      "image/png": "[encoded data removed]",
      "text/plain": [
       "<Figure size 640x480 with 1 Axes>"
      ]
     },
     "metadata": {},
     "output_type": "display_data"
    }
   ],
   "source": [
    "plot_graph(results, expected_means)"
   ]
  },
  {
   "cell_type": "markdown",
   "id": "1a4b3e2e",
   "metadata": {},
   "source": [
    "### NBM"
   ]
  },
  {
   "cell_type": "code",
   "execution_count": 11,
   "id": "06cf51be",
   "metadata": {},
   "outputs": [
    {
     "name": "stdout",
     "output_type": "stream",
     "text": [
      "Cenário 4\n",
      "Iniciando fase transiente\n",
      "Iniciando fase correlação\n",
      "Iniciando fase de estimação\n",
      "----------\n"
     ]
    }
   ],
   "source": [
    "i, lambda_, mu = scenarios[3]\n",
    "print(f'Cenário {i}')\n",
    "b = 20\n",
    "m = 100\n",
    "waiting_times = []\n",
    "\n",
    "print('Iniciando fase transiente')\n",
    "while True:\n",
    "    waiting_times += waiting_times_generator(b*m - len(waiting_times), lambda_, mu)\n",
    "    trunc_point = mser5y(waiting_times, progress=0.01)\n",
    "\n",
    "    if trunc_point != -1:\n",
    "        waiting_times = waiting_times[trunc_point:]\n",
    "        break;\n",
    "    m += 100\n",
    "\n",
    "if len(waiting_times) < b*m:\n",
    "    waiting_times += waiting_times_generator(b*m - len(waiting_times), lambda_, mu)\n",
    "\n",
    "print('Iniciando fase correlação')\n",
    "block_means = batch_means(waiting_times, b, m)\n",
    "while not von_neuman_test(block_means):\n",
    "    m += 100\n",
    "    waiting_times += waiting_times_generator(b*m - len(waiting_times), lambda_, mu)\n",
    "    block_means = batch_means(waiting_times, b, m)\n",
    "\n",
    "print('Iniciando fase de estimação')\n",
    "while True:\n",
    "    mean = np.mean(block_means)\n",
    "    standard_deviation = pstdev(block_means)\n",
    "    t_ = t.ppf(0.95, b*m-1)\n",
    "    h = (t_ * standard_deviation) / sqrt(b*m)\n",
    "\n",
    "    relative_size = h/mean\n",
    "\n",
    "    if relative_size <= 0.05:\n",
    "        break;\n",
    "\n",
    "    m += 100\n",
    "    waiting_times += waiting_times_generator(b*m - len(waiting_times), lambda_, mu)\n",
    "    block_means = batch_means(waiting_times, b, m)\n",
    "scenario4_results.append((mean, h))\n",
    "print('-'*10)"
   ]
  },
  {
   "cell_type": "markdown",
   "id": "2f9334f3",
   "metadata": {},
   "source": [
    "### OBM"
   ]
  },
  {
   "cell_type": "code",
   "execution_count": 12,
   "id": "172a9ca2",
   "metadata": {},
   "outputs": [
    {
     "name": "stdout",
     "output_type": "stream",
     "text": [
      "Cenário 4\n",
      "Iniciando fase transiente\n",
      "Iniciando fase correlação\n",
      "Iniciando fase de estimação\n",
      "----------\n"
     ]
    }
   ],
   "source": [
    "blocks_num = lambda m, n: n - m + 1\n",
    "i, lambda_, mu = scenarios[3]\n",
    "b = 20\n",
    "m = 100\n",
    "print(f'Cenário {i}')\n",
    "waiting_times = []\n",
    "\n",
    "print('Iniciando fase transiente')\n",
    "while True:\n",
    "    waiting_times += waiting_times_generator(b*m - len(waiting_times), lambda_, mu)\n",
    "    trunc_point = mser5y(waiting_times, progress=0.01)\n",
    "\n",
    "    if trunc_point != -1:\n",
    "        waiting_times = waiting_times[trunc_point:]\n",
    "        break;\n",
    "    m += 100\n",
    "    b = blocks_num(m, len(waiting_times))\n",
    "\n",
    "if len(waiting_times) < b*m:\n",
    "    waiting_times += waiting_times_generator(b*m - len(waiting_times), lambda_, mu)\n",
    "\n",
    "print('Iniciando fase correlação')\n",
    "block_means = batch_means(waiting_times, b, m, overlap=1)\n",
    "while not von_neuman_test(block_means):\n",
    "    m += 100\n",
    "    b = blocks_num(m, len(waiting_times))\n",
    "    waiting_times += waiting_times_generator(b*m - len(waiting_times), lambda_, mu)\n",
    "    blocks_means = batch_means(waiting_times, b, m, overlap=1)\n",
    "\n",
    "print('Iniciando fase de estimação')\n",
    "while True:\n",
    "    mean = np.mean(block_means)\n",
    "    standard_deviation = pstdev(block_means)\n",
    "    t_ = t.ppf(1-0.05/2, 1.5*(b*m-1))\n",
    "    h = (t_ * standard_deviation) / sqrt(b)\n",
    "\n",
    "    relative_size = h/mean\n",
    "\n",
    "    if relative_size <= 0.05:\n",
    "        break;\n",
    "\n",
    "    m += 100\n",
    "    b = blocks_num(m, len(waiting_times)) \n",
    "    waiting_times += waiting_times_generator(b*m - len(waiting_times), lambda_, mu)\n",
    "    block_means = batch_means(waiting_times, b, m, overlap=1)\n",
    "scenario4_results.append((mean, h))\n",
    "print('-'*10)"
   ]
  },
  {
   "cell_type": "markdown",
   "id": "67cadcf6",
   "metadata": {},
   "source": [
    "### STS/AREA x STS/CSUM x NBM x OBM."
   ]
  },
  {
   "cell_type": "code",
   "execution_count": 23,
   "id": "c1c2f5b7",
   "metadata": {},
   "outputs": [
    {
     "name": "stdout",
     "output_type": "stream",
     "text": [
      "Cenário 4\n",
      "Iniciando fase transiente\n",
      "Iniciando fase correlação\n",
      "Iniciando fase de estimação\n",
      "----------\n"
     ]
    }
   ],
   "source": [
    "blocks_num = lambda m, n: n - m + 1\n",
    "i, lambda_, mu = scenarios[3]\n",
    "b = 20\n",
    "m = 100\n",
    "print(f'Cenário {i}')\n",
    "waiting_times = []\n",
    "\n",
    "print('Iniciando fase transiente')\n",
    "while True:\n",
    "    waiting_times += waiting_times_generator(b*m - len(waiting_times), lambda_, mu)\n",
    "    trunc_point = mser5y(waiting_times, progress=0.01)\n",
    "\n",
    "    if trunc_point != -1:\n",
    "        waiting_times = waiting_times[trunc_point:]\n",
    "        break;\n",
    "    m += 100\n",
    "    b = blocks_num(m, len(waiting_times))\n",
    "\n",
    "if len(waiting_times) < b*m:\n",
    "    waiting_times += waiting_times_generator(b*m - len(waiting_times), lambda_, mu)\n",
    "\n",
    "print('Iniciando fase correlação')\n",
    "block_means = batch_means(waiting_times, b, m, overlap=50*m//100)\n",
    "while not von_neuman_test(block_means):\n",
    "    m += 100\n",
    "    b = blocks_num(m, len(waiting_times))\n",
    "    waiting_times += waiting_times_generator(b*m - len(waiting_times), lambda_, mu)\n",
    "    blocks_means = batch_means(waiting_times, b, m, overlap=50*m//100)\n",
    "\n",
    "print('Iniciando fase de estimação')\n",
    "while True:\n",
    "    mean = np.mean(block_means)\n",
    "    standard_deviation = pstdev(block_means)\n",
    "    t_ = t.ppf(1-0.05/2, 1.5*(b*m-1))\n",
    "    h = (t_ * standard_deviation) / sqrt(b)\n",
    "\n",
    "    relative_size = h/mean\n",
    "\n",
    "    if relative_size <= 0.05:\n",
    "        break;\n",
    "\n",
    "    m += 100\n",
    "    b = blocks_num(m, len(waiting_times)) \n",
    "    waiting_times += waiting_times_generator(b*m - len(waiting_times), lambda_, mu)\n",
    "    block_means = batch_means(waiting_times, b, m, overlap=50*m//100)\n",
    "scenario4_results.append((mean, h))\n",
    "print('-'*10)"
   ]
  },
  {
   "cell_type": "code",
   "execution_count": 24,
   "id": "d6b6e3bc",
   "metadata": {},
   "outputs": [
    {
     "data": {
      "image/png": "[encoded data removed]",
      "text/plain": [
       "<Figure size 640x480 with 1 Axes>"
      ]
     },
     "metadata": {},
     "output_type": "display_data"
    }
   ],
   "source": [
    "fig, ax = plt.subplots()\n",
    "\n",
    "avgs, error_margin = zip(*scenario4_results)\n",
    "colors = ['magenta', 'blue', 'green', 'brown', 'orange']\n",
    "x = [1,2,3,4,5]\n",
    "\n",
    "for pos, y, err, color in zip(x, avgs, error_margin, colors): \n",
    "    ax.errorbar(pos, y, yerr=err, fmt='o', c=color, mec='black', ms=7, ecolor='black', capsize=5)\n",
    "\n",
    "ax.axhline(y=expected_means[3], c='red', linestyle='--', label=f'Média esperada C-4')\n",
    "\n",
    "plt.xticks(x, ['STS/AREA','STS/CSUM','NBM','OBM','OBM/50'])\n",
    "plt.margins(0.2)\n",
    "plt.ylabel('Tempo médio de espera', fontsize=14)\n",
    "plt.xlabel('Cenários', fontsize=14)\n",
    "plt.legend(loc='center left', bbox_to_anchor=(1, 0.5))\n",
    "\n",
    "plt.show()"
   ]
  },
  {
   "cell_type": "markdown",
   "id": "70b49081",
   "metadata": {},
   "source": [
    "## Conclusão\n",
    "Analisando os gráficos do STS/AREA e STS/CSUM para todos os cenários e comparando as duas abordagens de STS, observamos que os valores das médias observadas durante os experimentos são semelhantes para ambos os métodos, tendo o STS/AREA valores mais próximos das médias esperadas para os cenários 3 e 4. Além disso, para o cenário 4 o método STS/AREA mostrou conseguir obter o resultado mais próximo do esperado quando comparado com os demais métodos, sendo de grande diferença quando comparado ao OBM, por exemplo, que obteve o resultado muito distante do desejado. Apesar disso, nenhum dos 4 métodos conseguiu incluir no seu intervalo de confiança a média esperada para o cenário 4. Com isso, para enriquecimento do experimento foi adicionado para comparação o método Overlapping Batch Means com grau de superposição de 50% (OBM/50) que pelo experimento realizado mostrou ter resultado melhor que os outros 4 métodos ao atingir a média esperada para o cenário 4."
   ]
  }
 ],
 "metadata": {
  "kernelspec": {
   "display_name": "Python 3 (ipykernel)",
   "language": "python",
   "name": "python3"
  },
  "language_info": {
   "codemirror_mode": {
    "name": "ipython",
    "version": 3
   },
   "file_extension": ".py",
   "mimetype": "text/x-python",
   "name": "python",
   "nbconvert_exporter": "python",
   "pygments_lexer": "ipython3",
   "version": "3.8.10"
  }
 },
 "nbformat": 4,
 "nbformat_minor": 5
}
