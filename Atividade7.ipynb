{
 "cells": [
  {
   "cell_type": "markdown",
   "id": "fccc0829",
   "metadata": {},
   "source": [
    "<div style=\"width: 100%; margin-left: auto; margin-right: auto;\">\n",
    "    <h2 style=\"text-align: center; margin-top: 1%; font-size:32px;\">Avaliação de Desempenho - Atividade 7</h2>\n",
    "</div>"
   ]
  },
  {
   "cell_type": "markdown",
   "id": "74e08d31",
   "metadata": {},
   "source": [
    "**Aluno:** Igor Carvalho da Silva  \n",
    "**Email:** igor.carvalho@icomp.ufam.edu.br  \n",
    "**Matrícula:** 21951288  \n",
    "\n",
    "---"
   ]
  },
  {
   "cell_type": "code",
   "execution_count": null,
   "id": "8fda98da",
   "metadata": {},
   "outputs": [],
   "source": [
    "!pip3 install numpy\n",
    "!pip3 install pandas"
   ]
  },
  {
   "cell_type": "code",
   "execution_count": 1,
   "id": "8f571331",
   "metadata": {},
   "outputs": [],
   "source": [
    "import pandas as pd\n",
    "import numpy as np"
   ]
  },
  {
   "cell_type": "code",
   "execution_count": 2,
   "id": "e6d7c57c",
   "metadata": {},
   "outputs": [
    {
     "data": {
      "text/html": [
       "<div>\n",
       "<style scoped>\n",
       "    .dataframe tbody tr th:only-of-type {\n",
       "        vertical-align: middle;\n",
       "    }\n",
       "\n",
       "    .dataframe tbody tr th {\n",
       "        vertical-align: top;\n",
       "    }\n",
       "\n",
       "    .dataframe thead th {\n",
       "        text-align: right;\n",
       "    }\n",
       "</style>\n",
       "<table border=\"1\" class=\"dataframe\">\n",
       "  <thead>\n",
       "    <tr style=\"text-align: right;\">\n",
       "      <th></th>\n",
       "      <th>time</th>\n",
       "      <th>conn</th>\n",
       "      <th>src</th>\n",
       "      <th>dest</th>\n",
       "      <th>type</th>\n",
       "    </tr>\n",
       "  </thead>\n",
       "  <tbody>\n",
       "    <tr>\n",
       "      <th>0</th>\n",
       "      <td>1</td>\n",
       "      <td>CONN</td>\n",
       "      <td>79</td>\n",
       "      <td>14</td>\n",
       "      <td>up</td>\n",
       "    </tr>\n",
       "    <tr>\n",
       "      <th>1</th>\n",
       "      <td>1</td>\n",
       "      <td>CONN</td>\n",
       "      <td>79</td>\n",
       "      <td>14</td>\n",
       "      <td>down</td>\n",
       "    </tr>\n",
       "    <tr>\n",
       "      <th>2</th>\n",
       "      <td>49</td>\n",
       "      <td>CONN</td>\n",
       "      <td>14</td>\n",
       "      <td>79</td>\n",
       "      <td>up</td>\n",
       "    </tr>\n",
       "    <tr>\n",
       "      <th>3</th>\n",
       "      <td>49</td>\n",
       "      <td>CONN</td>\n",
       "      <td>14</td>\n",
       "      <td>79</td>\n",
       "      <td>down</td>\n",
       "    </tr>\n",
       "    <tr>\n",
       "      <th>4</th>\n",
       "      <td>2252</td>\n",
       "      <td>CONN</td>\n",
       "      <td>14</td>\n",
       "      <td>20</td>\n",
       "      <td>up</td>\n",
       "    </tr>\n",
       "    <tr>\n",
       "      <th>...</th>\n",
       "      <td>...</td>\n",
       "      <td>...</td>\n",
       "      <td>...</td>\n",
       "      <td>...</td>\n",
       "      <td>...</td>\n",
       "    </tr>\n",
       "    <tr>\n",
       "      <th>205182</th>\n",
       "      <td>16980866</td>\n",
       "      <td>CONN</td>\n",
       "      <td>85</td>\n",
       "      <td>15</td>\n",
       "      <td>down</td>\n",
       "    </tr>\n",
       "    <tr>\n",
       "      <th>205183</th>\n",
       "      <td>16980866</td>\n",
       "      <td>CONN</td>\n",
       "      <td>85</td>\n",
       "      <td>56</td>\n",
       "      <td>down</td>\n",
       "    </tr>\n",
       "    <tr>\n",
       "      <th>205184</th>\n",
       "      <td>16981088</td>\n",
       "      <td>CONN</td>\n",
       "      <td>15</td>\n",
       "      <td>95</td>\n",
       "      <td>down</td>\n",
       "    </tr>\n",
       "    <tr>\n",
       "      <th>205185</th>\n",
       "      <td>16981088</td>\n",
       "      <td>CONN</td>\n",
       "      <td>36</td>\n",
       "      <td>95</td>\n",
       "      <td>down</td>\n",
       "    </tr>\n",
       "    <tr>\n",
       "      <th>205186</th>\n",
       "      <td>16981816</td>\n",
       "      <td>CONN</td>\n",
       "      <td>85</td>\n",
       "      <td>95</td>\n",
       "      <td>down</td>\n",
       "    </tr>\n",
       "  </tbody>\n",
       "</table>\n",
       "<p>205187 rows × 5 columns</p>\n",
       "</div>"
      ],
      "text/plain": [
       "            time  conn  src  dest  type\n",
       "0              1  CONN   79    14    up\n",
       "1              1  CONN   79    14  down\n",
       "2             49  CONN   14    79    up\n",
       "3             49  CONN   14    79  down\n",
       "4           2252  CONN   14    20    up\n",
       "...          ...   ...  ...   ...   ...\n",
       "205182  16980866  CONN   85    15  down\n",
       "205183  16980866  CONN   85    56  down\n",
       "205184  16981088  CONN   15    95  down\n",
       "205185  16981088  CONN   36    95  down\n",
       "205186  16981816  CONN   85    95  down\n",
       "\n",
       "[205187 rows x 5 columns]"
      ]
     },
     "execution_count": 2,
     "metadata": {},
     "output_type": "execute_result"
    }
   ],
   "source": [
    "df = pd.read_csv('reality-mining.txt', sep=' ', header=None, names=['time','conn','src','dest','type'])\n",
    "df"
   ]
  },
  {
   "cell_type": "code",
   "execution_count": 4,
   "id": "5e9fb987",
   "metadata": {},
   "outputs": [],
   "source": [
    "N = max(df['src']) + 1\n",
    "adj_matrix = np.zeros((N,N))"
   ]
  },
  {
   "cell_type": "code",
   "execution_count": 5,
   "id": "9a9ce566",
   "metadata": {},
   "outputs": [],
   "source": [
    "for index, row in df.iterrows():\n",
    "    adj_matrix[row.src][row.dest] = 1\n",
    "    adj_matrix[row.dest][row.src] = 1"
   ]
  },
  {
   "cell_type": "markdown",
   "id": "cfe962a5",
   "metadata": {},
   "source": [
    "## Número de conexões"
   ]
  },
  {
   "cell_type": "code",
   "execution_count": 6,
   "id": "925597bd",
   "metadata": {},
   "outputs": [
    {
     "data": {
      "text/plain": [
       "102594"
      ]
     },
     "execution_count": 6,
     "metadata": {},
     "output_type": "execute_result"
    }
   ],
   "source": [
    "total_connections = len(df[df['type'] == 'up'])\n",
    "total_connections"
   ]
  },
  {
   "cell_type": "markdown",
   "id": "ac877298",
   "metadata": {},
   "source": [
    "## Número de arestas"
   ]
  },
  {
   "cell_type": "code",
   "execution_count": 7,
   "id": "a8ac39b4",
   "metadata": {},
   "outputs": [
    {
     "data": {
      "text/plain": [
       "3085.0"
      ]
     },
     "execution_count": 7,
     "metadata": {},
     "output_type": "execute_result"
    }
   ],
   "source": [
    "edges = 0\n",
    "for i in range(N):\n",
    "    edges = edges + sum(adj_matrix[i][i:])\n",
    "edges"
   ]
  },
  {
   "cell_type": "markdown",
   "id": "fc02b56e",
   "metadata": {},
   "source": [
    "## Num médio de conexões por nó"
   ]
  },
  {
   "cell_type": "code",
   "execution_count": 8,
   "id": "2f19f3ef",
   "metadata": {},
   "outputs": [
    {
     "data": {
      "text/plain": [
       "1068.6875"
      ]
     },
     "execution_count": 8,
     "metadata": {},
     "output_type": "execute_result"
    }
   ],
   "source": [
    "nodes = len(set(list(df['src']) + list(df['dest'])))\n",
    "total_connections/nodes"
   ]
  },
  {
   "cell_type": "markdown",
   "id": "b5990e88",
   "metadata": {},
   "source": [
    "## Conexões por minuto"
   ]
  },
  {
   "cell_type": "code",
   "execution_count": 9,
   "id": "ec656024",
   "metadata": {},
   "outputs": [
    {
     "data": {
      "text/plain": [
       "0.3624842007474348"
      ]
     },
     "execution_count": 9,
     "metadata": {},
     "output_type": "execute_result"
    }
   ],
   "source": [
    "total_connections/(max(df['time'])/60)"
   ]
  },
  {
   "cell_type": "markdown",
   "id": "e7372c1c",
   "metadata": {},
   "source": [
    "## Tempo total de conexão"
   ]
  },
  {
   "cell_type": "code",
   "execution_count": 10,
   "id": "d6ebd20e",
   "metadata": {},
   "outputs": [],
   "source": [
    "df_sorted = df.sort_values(['src','dest','type','time'])\n",
    "total_connection_time = 0\n",
    "for i in range(N):\n",
    "    for j in range(i,len(adj_matrix[i])):\n",
    "        if(adj_matrix[i][j] == 1):\n",
    "            ups = list(df_sorted[(df_sorted.src == i) & (df_sorted.dest == j) & (df_sorted.type == 'up')]['time'])\n",
    "            downs = list(df_sorted[(df_sorted.src == i) & (df_sorted.dest == j) & (df_sorted.type == 'down')]['time'])\n",
    "            ups = ups[:len(downs)]\n",
    "            total_connection_time += sum(downs) - sum(ups)\n",
    "            ups = list(df_sorted[(df_sorted.src == j) & (df_sorted.dest == i) & (df_sorted.type == 'up')]['time'])\n",
    "            downs = list(df_sorted[(df_sorted.src == j) & (df_sorted.dest == i) & (df_sorted.type == 'down')]['time'])\n",
    "            ups = ups[:len(downs)]\n",
    "            total_connection_time += sum(downs) - sum(ups)"
   ]
  },
  {
   "cell_type": "code",
   "execution_count": 23,
   "id": "70ecfe17",
   "metadata": {},
   "outputs": [
    {
     "data": {
      "text/plain": [
       "205882586"
      ]
     },
     "execution_count": 23,
     "metadata": {},
     "output_type": "execute_result"
    }
   ],
   "source": [
    "total_connection_time"
   ]
  },
  {
   "cell_type": "markdown",
   "id": "4ab8192e",
   "metadata": {},
   "source": [
    "## Tempo médio de conexão"
   ]
  },
  {
   "cell_type": "code",
   "execution_count": 11,
   "id": "fd8bc0ab",
   "metadata": {},
   "outputs": [
    {
     "data": {
      "text/plain": [
       "2144610.2708333335"
      ]
     },
     "execution_count": 11,
     "metadata": {},
     "output_type": "execute_result"
    }
   ],
   "source": [
    "total_connection_time/nodes"
   ]
  },
  {
   "cell_type": "markdown",
   "id": "b8ca4750",
   "metadata": {},
   "source": [
    "## Grupo com mais nós conectados\n",
    "(Sugestão: utilizar slots de 3h)"
   ]
  },
  {
   "cell_type": "code",
   "execution_count": null,
   "id": "038bb60e",
   "metadata": {},
   "outputs": [],
   "source": []
  },
  {
   "cell_type": "markdown",
   "id": "e1bc3593",
   "metadata": {},
   "source": [
    "## Média dos grupos com mais nós conectados"
   ]
  },
  {
   "cell_type": "code",
   "execution_count": null,
   "id": "4efc83e3",
   "metadata": {},
   "outputs": [],
   "source": []
  },
  {
   "cell_type": "markdown",
   "id": "d31781d6",
   "metadata": {},
   "source": [
    "## Mediana dos grupos com mais nós conectados"
   ]
  },
  {
   "cell_type": "code",
   "execution_count": null,
   "id": "a5f5fcdf",
   "metadata": {},
   "outputs": [],
   "source": []
  },
  {
   "cell_type": "markdown",
   "id": "96c6331c",
   "metadata": {},
   "source": [
    "## Número médio de nós conectados"
   ]
  },
  {
   "cell_type": "code",
   "execution_count": null,
   "id": "283f2720",
   "metadata": {},
   "outputs": [],
   "source": []
  },
  {
   "cell_type": "markdown",
   "id": "80a83965",
   "metadata": {},
   "source": [
    "## Mediana do número de nós conectados"
   ]
  },
  {
   "cell_type": "code",
   "execution_count": null,
   "id": "fd9e4eb5",
   "metadata": {},
   "outputs": [],
   "source": []
  },
  {
   "cell_type": "markdown",
   "id": "aa3ab869",
   "metadata": {},
   "source": [
    "## Maior grau dos nós por slot"
   ]
  },
  {
   "cell_type": "code",
   "execution_count": null,
   "id": "892cccbc",
   "metadata": {},
   "outputs": [],
   "source": []
  },
  {
   "cell_type": "markdown",
   "id": "062c6ab3",
   "metadata": {},
   "source": [
    "## Grau médio dos nós por slot"
   ]
  },
  {
   "cell_type": "code",
   "execution_count": null,
   "id": "a95f99d9",
   "metadata": {},
   "outputs": [],
   "source": []
  },
  {
   "cell_type": "markdown",
   "id": "28ad1616",
   "metadata": {},
   "source": [
    "## Criar uma lista dos contatos e suas durações\n",
    "$(i,j,T_{ij})$ para todo $i,j \\in N$"
   ]
  },
  {
   "cell_type": "code",
   "execution_count": null,
   "id": "355eff6d",
   "metadata": {},
   "outputs": [],
   "source": []
  },
  {
   "cell_type": "markdown",
   "id": "1debfbe2",
   "metadata": {},
   "source": [
    "## Densidade do trace\n",
    "$D = \\frac{2|E|}{|V|(|V|-1)}$"
   ]
  },
  {
   "cell_type": "code",
   "execution_count": 112,
   "id": "b1d8492e",
   "metadata": {},
   "outputs": [
    {
     "data": {
      "text/plain": [
       "0.6765350877192983"
      ]
     },
     "execution_count": 112,
     "metadata": {},
     "output_type": "execute_result"
    }
   ],
   "source": [
    "density = (2*edges)/(nodes*(nodes-1))\n",
    "density"
   ]
  }
 ],
 "metadata": {
  "kernelspec": {
   "display_name": "Python 3 (ipykernel)",
   "language": "python",
   "name": "python3"
  },
  "language_info": {
   "codemirror_mode": {
    "name": "ipython",
    "version": 3
   },
   "file_extension": ".py",
   "mimetype": "text/x-python",
   "name": "python",
   "nbconvert_exporter": "python",
   "pygments_lexer": "ipython3",
   "version": "3.8.10"
  }
 },
 "nbformat": 4,
 "nbformat_minor": 5
}
