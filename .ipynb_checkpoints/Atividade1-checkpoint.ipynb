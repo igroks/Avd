{
 "cells": [
  {
   "cell_type": "markdown",
   "id": "08804969",
   "metadata": {},
   "source": [
    "<div style=\"width: 100%; margin-left: auto; margin-right: auto;\">\n",
    "    <h2 style=\"text-align: center; margin-top: 1%; font-size:32px;\">Avaliação de Desempenho - Atividade 1</h2>\n",
    "</div>"
   ]
  },
  {
   "cell_type": "markdown",
   "id": "d8cb29c6",
   "metadata": {},
   "source": [
    "**Aluno:** Igor Carvalho da Silva  \n",
    "**Email:** igor.carvalho@icomp.ufam.edu.br  \n",
    "**Matrícula:** 21951288  \n",
    "\n",
    "---"
   ]
  },
  {
   "cell_type": "markdown",
   "id": "5aae2ef3",
   "metadata": {},
   "source": [
    "## Introdução\n",
    "Variáveis aleatórias são variáveis quantitativas, cujo resultado depende de fatores aleatórios, elas são essenciais para a representação de fenômenos incertos. Principalmente na área de Computação, mais especificamente quando tratamos de simulações que tem algum fenômeno aleatório, uma vez que precisamos envolver um processo de amostragem, que se dá pela geração de valores para variáveis aleatórias com certa distribuição de probabilidade.  \n",
    "\n",
    "Nesta atividade exploramos a geração de uma variável aleatória exponencial com média $\\beta$, dada por:  \n",
    "\n",
    "$$\n",
    "X = -\\beta \\times ln(1 - U)\n",
    "$$\n",
    "\n",
    "onde U é a geração de um número aleatório entre 0 e 1. Dessa forma, torna-se essencial possuir um bom gerador de números aleatórios que seja estatisticamente confiável.\n",
    "\n",
    "Com isso, o experimento desta atividade foi dividido em duas partes. A primeira consiste em testar a qualidade de quatro geradores lineares congruências implementados e mais o gerador utilizado na linguagem de programação Python, utilizando Teste Chi-Quadrado ($X^{2}$). A segunda parte consiste em utilizar os dois melhores geradores e utilizá-los para gerar a função cumulativa de distribuição de uma variável aleatória exponencial a fim de comparar os geradores.\n",
    "\n",
    "## Gerador Linear Congruencial\n",
    "O Método Congruencial Linear é uma classe de algoritmos do Gerador de Número Pseudo Aleatório (PRNG), um algoritmo usado para gerar sequências de números semelhantes a aleatórios em um intervalo específico. O método pode ser definido como:\n",
    "\n",
    "$$\n",
    "n_{i} = (an_{i-1}+b)\\ mod \\ m\n",
    "$$\n",
    "\n",
    "onde,\n",
    "\n",
    "$n$, é a sequência de números pseudo-aleatórios ($n_{0}$ é chamado de semente)  \n",
    "$a$, é o multiplicador  \n",
    "$b$, é a constante aditiva e  \n",
    "$m$, é o módulo  \n",
    "\n",
    "$n, a, b \\ e \\ m$ pertencem ao conjunto $N$ e $0 \\le n_{i} \\le m-1$\n",
    "\n",
    "Os números pseudoaleatórios $U_{i}$ são obtidos da seguinte forma:\n",
    "\n",
    "$$\n",
    "U_{i} = \\frac{n_{i}}{m}\n",
    "$$\n",
    "\n",
    "Para esta atividade o valor proposto de $m$ foi $2^{31}-1$, os valores de $a$ e $b$ variam de acordo com cada gerador, já o valor da semente ($n_{0}$) foi escolhido aleatoriamente como 214365.\n",
    "\n",
    "## Chi-Quadrado ($X^{2}$)\n",
    "O Chi-quadrado é um métdodo de teste de hipótese. Basicamente consiste em verificar se as frequências observadas nos dados correspondem às frequências esperadas se a hipótese nula fosse verdadeira. O teste pode ser aplicado da seguinte forma:\n",
    "\n",
    "* Sejam $u_{1}, u_{2}, ..., u_{n}$ números aleatórios sucessivos produzidos por um mesmo gerador\n",
    "* Dividimos o intervalo \\[0,1\\] em $k$ subintervalos $l_{i}$ de mesma largura $1/k$\n",
    "* Seja $o_{j}$ a frequência observada na célula $j$\n",
    "* Seja $e_{i}$ a frequência esperada, extraída da função densidade de probabilidade especificada\n",
    "\n",
    "Podemos computar a seguinte estatística:\n",
    "\n",
    "$$\n",
    "D = \\sum_{j=1}^{k}\\frac{(o_{j}-e_{j})^{2}}{e_{j}}\n",
    "$$\n",
    "\n",
    "Se $D=0$, os números aleatórios têm a mesma função densidade de probabilidade, contudo isso raramente acontece. Para conseguirmos provar que D tem uma distribuição chi-quadrado com $k-1$ graus de liberdade, precisamos fazer a seguinte comparação:\n",
    "\n",
    "$$\n",
    "D \\lt X^{2}_{[1-\\alpha;k-1]}\n",
    "$$\n",
    "\n",
    "onde $X^{2}_{[1-\\alpha;k-1]}$ é o valor tabelado de Chi-quadrado com nível de significância $\\alpha$.\n",
    "\n",
    "Para o teste dos geradores de números foi proposto usar $\\alpha = 0.05$, $k\\ge1000$ e  $n\\ge5000$. Nesse experimento foi escolhido usar $k=1000$ e $n=5000$, considerando ser uma boa quantidade de amostras."
   ]
  },
  {
   "cell_type": "markdown",
   "id": "6184a57d",
   "metadata": {},
   "source": [
    "## Experimento\n",
    "### Dependências\n",
    "Para reproduzir o experimento é necessário ter o `pip` instalado ou já possuir as seguintes bibliotecas instaladas."
   ]
  },
  {
   "cell_type": "code",
   "execution_count": 1,
   "id": "cd205a15",
   "metadata": {},
   "outputs": [
    {
     "name": "stdout",
     "output_type": "stream",
     "text": [
      "Defaulting to user installation because normal site-packages is not writeable\n",
      "Requirement already satisfied: numpy in /home/igorcarvalho/.local/lib/python3.10/site-packages (1.23.5)\n",
      "Defaulting to user installation because normal site-packages is not writeable\n",
      "Requirement already satisfied: matplotlib in /home/igorcarvalho/.local/lib/python3.10/site-packages (3.6.2)\n",
      "Requirement already satisfied: fonttools>=4.22.0 in /home/igorcarvalho/.local/lib/python3.10/site-packages (from matplotlib) (4.38.0)\n",
      "Requirement already satisfied: kiwisolver>=1.0.1 in /home/igorcarvalho/.local/lib/python3.10/site-packages (from matplotlib) (1.4.4)\n",
      "Requirement already satisfied: contourpy>=1.0.1 in /home/igorcarvalho/.local/lib/python3.10/site-packages (from matplotlib) (1.0.6)\n",
      "Requirement already satisfied: numpy>=1.19 in /home/igorcarvalho/.local/lib/python3.10/site-packages (from matplotlib) (1.23.5)\n",
      "Requirement already satisfied: python-dateutil>=2.7 in /home/igorcarvalho/.local/lib/python3.10/site-packages (from matplotlib) (2.8.2)\n",
      "Requirement already satisfied: pyparsing>=2.2.1 in /usr/lib/python3/dist-packages (from matplotlib) (2.4.7)\n",
      "Requirement already satisfied: pillow>=6.2.0 in /usr/lib/python3/dist-packages (from matplotlib) (9.0.1)\n",
      "Requirement already satisfied: cycler>=0.10 in /home/igorcarvalho/.local/lib/python3.10/site-packages (from matplotlib) (0.11.0)\n",
      "Requirement already satisfied: packaging>=20.0 in /home/igorcarvalho/.local/lib/python3.10/site-packages (from matplotlib) (22.0)\n",
      "Requirement already satisfied: six>=1.5 in /usr/lib/python3/dist-packages (from python-dateutil>=2.7->matplotlib) (1.16.0)\n",
      "Defaulting to user installation because normal site-packages is not writeable\n",
      "Requirement already satisfied: pandas in /home/igorcarvalho/.local/lib/python3.10/site-packages (1.5.2)\n",
      "Requirement already satisfied: pytz>=2020.1 in /usr/lib/python3/dist-packages (from pandas) (2022.1)\n",
      "Requirement already satisfied: python-dateutil>=2.8.1 in /home/igorcarvalho/.local/lib/python3.10/site-packages (from pandas) (2.8.2)\n",
      "Requirement already satisfied: numpy>=1.21.0 in /home/igorcarvalho/.local/lib/python3.10/site-packages (from pandas) (1.23.5)\n",
      "Requirement already satisfied: six>=1.5 in /usr/lib/python3/dist-packages (from python-dateutil>=2.8.1->pandas) (1.16.0)\n",
      "Defaulting to user installation because normal site-packages is not writeable\n",
      "Requirement already satisfied: scipy in /home/igorcarvalho/.local/lib/python3.10/site-packages (1.9.3)\n",
      "Requirement already satisfied: numpy<1.26.0,>=1.18.5 in /home/igorcarvalho/.local/lib/python3.10/site-packages (from scipy) (1.23.5)\n"
     ]
    }
   ],
   "source": [
    "!pip3 install numpy\n",
    "!pip3 install matplotlib\n",
    "!pip3 install pandas\n",
    "!pip3 install scipy"
   ]
  },
  {
   "cell_type": "markdown",
   "id": "2976e7f2",
   "metadata": {},
   "source": [
    "### Imports"
   ]
  },
  {
   "cell_type": "code",
   "execution_count": 2,
   "id": "3a8e7e47",
   "metadata": {},
   "outputs": [],
   "source": [
    "import random\n",
    "import numpy as np \n",
    "import matplotlib.pyplot as plt \n",
    "import pandas as pd\n",
    "from scipy.stats import chi2"
   ]
  },
  {
   "cell_type": "markdown",
   "id": "368b725b",
   "metadata": {},
   "source": [
    "### Parte 1\n",
    "Implementar em Python os seguintes geradores de NA e testar a sua qualidade utilizando o teste do Chi-quadrado (α=0,05).\n",
    "\n",
    "$$\n",
    " G1: x_{n} = 7^{5} \\times x_{n-1}mod(2^{31}-1)\\\\\n",
    " G2: x_{n} = 48271 \\times x_{n-1}mod(2^{31}-1)\\\\\n",
    " G3: x_{n} = 69621 \\times x_{n-1}mod(2^{31}-1)\\\\\n",
    " G4: x_{n} = (2^{16} + 3) \\times x_{n-1}mod(2^{31}-1)\\\\\n",
    " G5: x_{n} = gerador \\ implementado \\ no \\ Python\n",
    "$$"
   ]
  },
  {
   "cell_type": "code",
   "execution_count": 3,
   "id": "cc4257b6",
   "metadata": {},
   "outputs": [],
   "source": [
    "def pseudorandomNumbers(generator, n, mod, seed):\n",
    "    x = seed\n",
    "    result = []\n",
    "    for _ in range(n):\n",
    "        x = generator(x)\n",
    "        result.append(x/mod)\n",
    "    return result"
   ]
  },
  {
   "cell_type": "code",
   "execution_count": 4,
   "id": "2cb852b1",
   "metadata": {},
   "outputs": [],
   "source": [
    "seed = 214365\n",
    "n = 5000\n",
    "mod = 2**31-1\n",
    "k = 1000\n",
    "ej = n/k\n",
    "alpha = 0.05\n",
    "\n",
    "random.seed(seed)"
   ]
  },
  {
   "cell_type": "code",
   "execution_count": 5,
   "id": "7286ec57",
   "metadata": {},
   "outputs": [],
   "source": [
    "generators = [\n",
    "    lambda x: (7**5*x) % mod,\n",
    "    lambda x: (48271*x) % mod,\n",
    "    lambda x: (69621*x) % mod,\n",
    "    lambda x: ((2**16+3)*x) % mod,\n",
    "]"
   ]
  },
  {
   "cell_type": "code",
   "execution_count": 6,
   "id": "aab8bf79",
   "metadata": {},
   "outputs": [],
   "source": [
    "Ugs = [pseudorandomNumbers(g, n, mod, seed) for g in generators]\n",
    "Ugs.append([random.random() for _ in range(n)])"
   ]
  },
  {
   "cell_type": "code",
   "execution_count": 7,
   "id": "7e18b267",
   "metadata": {},
   "outputs": [],
   "source": [
    "Ogs = [[0] * k for _ in range(len(Ugs))]\n",
    "\n",
    "for g in range(len(Ugs)):\n",
    "    for i in range(n):\n",
    "        Ogs[g][int(Ugs[g][i]*k)] += 1"
   ]
  },
  {
   "cell_type": "code",
   "execution_count": 8,
   "id": "b9539703",
   "metadata": {},
   "outputs": [
    {
     "name": "stdout",
     "output_type": "stream",
     "text": [
      "Valor D calculado dos geradores\n",
      "G1: 998.3999999999984\n",
      "G2: 1058.3999999999987\n",
      "G3: 1003.5999999999993\n",
      "G4: 1085.6000000000004\n",
      "G5: 961.599999999999\n",
      "\n",
      "Valor tabelado de X²: 1073.6426506574246\n"
     ]
    }
   ],
   "source": [
    "Dgs = [sum([((oj - ej)**2)/ej for oj in Og]) for Og in Ogs]\n",
    "print('Valor D calculado dos geradores')\n",
    "for i,d in enumerate(Dgs):\n",
    "    print(f'G{i+1}: {d}')\n",
    "print()\n",
    "\n",
    "print(f'Valor tabelado de X²: {chi2.ppf(1-alpha, k-1)}')"
   ]
  },
  {
   "cell_type": "markdown",
   "id": "342e04f8",
   "metadata": {},
   "source": [
    "### Parte 2\n",
    "i. Utilizar os dois melhores geradores dentre G1, G2, G3, G4 e G5.  \n",
    "ii. Implementar em Python uma VA Exponencial chamada X utilizando esses geradores.  \n",
    "iii. Gerar a função cumulativa de distribuição de X, avaliada em x. Função distribuição é a probabilidade de X assumir um valor menor ou igual a x.  \n",
    "iv. Plotar um gráfico comparativo"
   ]
  },
  {
   "cell_type": "code",
   "execution_count": 9,
   "id": "eb66819d",
   "metadata": {},
   "outputs": [],
   "source": [
    "beta = 1/9"
   ]
  },
  {
   "cell_type": "code",
   "execution_count": 10,
   "id": "ec50e079",
   "metadata": {},
   "outputs": [],
   "source": [
    "va = [-beta * np.log(1-Ugs[0][i]) for i in range(n)]\n",
    "count, bins_count = np.histogram(va, bins=1000)\n",
    "pdf = count / sum(count)\n",
    "cdf = np.cumsum(pdf)"
   ]
  },
  {
   "cell_type": "code",
   "execution_count": 11,
   "id": "48f856d5",
   "metadata": {},
   "outputs": [
    {
     "data": {
      "text/plain": [
       "<matplotlib.legend.Legend at 0x7fd5373d2d70>"
      ]
     },
     "execution_count": 11,
     "metadata": {},
     "output_type": "execute_result"
    },
    {
     "data": {
      "image/png": "[encoded data removed]",
      "text/plain": [
       "<Figure size 640x480 with 1 Axes>"
      ]
     },
     "metadata": {},
     "output_type": "display_data"
    }
   ],
   "source": [
    "plt.plot(bins_count[1:], pdf, color=\"red\", label=\"PDF\") \n",
    "plt.plot(bins_count[1:], cdf, label=\"CDF\") \n",
    "plt.legend() "
   ]
  },
  {
   "cell_type": "code",
   "execution_count": 12,
   "id": "303a550c",
   "metadata": {},
   "outputs": [],
   "source": [
    "va = [-beta * np.log(1-Ugs[4][i]) for i in range(n)]\n",
    "count, bins_count = np.histogram(va, bins=1000)\n",
    "pdf = count / sum(count) \n",
    "cdf = np.cumsum(pdf) "
   ]
  },
  {
   "cell_type": "code",
   "execution_count": 13,
   "id": "89644cd8",
   "metadata": {
    "scrolled": false
   },
   "outputs": [
    {
     "data": {
      "text/plain": [
       "<matplotlib.legend.Legend at 0x7fd5373d35e0>"
      ]
     },
     "execution_count": 13,
     "metadata": {},
     "output_type": "execute_result"
    },
    {
     "data": {
      "image/png": "[encoded data removed]",
      "text/plain": [
       "<Figure size 640x480 with 1 Axes>"
      ]
     },
     "metadata": {},
     "output_type": "display_data"
    }
   ],
   "source": [
    "plt.plot(bins_count[1:], pdf, color=\"red\", label=\"PDF\") \n",
    "plt.plot(bins_count[1:], cdf, label=\"CDF\") \n",
    "plt.legend()"
   ]
  },
  {
   "cell_type": "markdown",
   "id": "39efcd50",
   "metadata": {},
   "source": [
    "## Conclusão\n",
    "Analisando os resultados da Parte 1 podemos observar que o único gerador que não apresenta uma distribuição uniforme é o $G4$. Por sua vez, o gerador $G5$, gerador da biblioteca Random do Python, foi o gerador que apresentou o melhor valor de estatística $D$, estando mais próximo de 0.\n",
    "\n",
    "Conformes os resultados obtidos pelo teste Chi-quadrado ($X^{2}$) na Parte 1 do experimento, os mehores geradores são $G1$ e $G5$. Utilizando os geradores na Parte 2, observamos ao comparar os gráficos das funções cumulativa de distribuição que eles são parecidos, isto é, a distribuição dos valores gerados são semelhantes em ambos os geradores."
   ]
  }
 ],
 "metadata": {
  "kernelspec": {
   "display_name": "Python 3 (ipykernel)",
   "language": "python",
   "name": "python3"
  },
  "language_info": {
   "codemirror_mode": {
    "name": "ipython",
    "version": 3
   },
   "file_extension": ".py",
   "mimetype": "text/x-python",
   "name": "python",
   "nbconvert_exporter": "python",
   "pygments_lexer": "ipython3",
   "version": "3.10.6"
  }
 },
 "nbformat": 4,
 "nbformat_minor": 5
}
