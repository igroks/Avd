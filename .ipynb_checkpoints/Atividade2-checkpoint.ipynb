{
 "cells": [
  {
   "cell_type": "markdown",
   "id": "08804969",
   "metadata": {},
   "source": [
    "<div style=\"width: 100%; margin-left: auto; margin-right: auto;\">\n",
    "    <h2 style=\"text-align: center; margin-top: 1%; font-size:32px;\">Avaliação de Desempenho - Atividade 2</h2>\n",
    "</div>"
   ]
  },
  {
   "cell_type": "markdown",
   "id": "d8cb29c6",
   "metadata": {},
   "source": [
    "**Aluno:** Igor Carvalho da Silva  \n",
    "**Email:** igor.carvalho@icomp.ufam.edu.br  \n",
    "**Matrícula:** 21951288  \n",
    "\n",
    "---"
   ]
  },
  {
   "cell_type": "markdown",
   "id": "5aae2ef3",
   "metadata": {},
   "source": [
    "## Introdução\n",
    "As filas têm uma frequente incidência no cotidiano, seja de uma forma mais perceptível como na compra de ingressos para um show ou cinema, em uma sala de espera de um consultório, ou ainda, de uma forma menos perceptível como no gerenciamento de documentos a serem impressos ou no buffer para gravação de dados em mídia. As filas são fenômenos naturais em um mundo compartilhado, além de ser uma das estruturas de dados mais utilizada na área de Computação.\n",
    "\n",
    "Nesta atividade simulamos a dinâmica de uma fila M/M/1 a fim de estimar o tempo médio $\\bar{X}(n)$ de espera de um cliente na fila. Para isso, foram realizados dois tipos de simulações, a primeira chamada de Simulação de Horizonte Finito, onde o fim da simulação é definido pelo usuário, como dado um tempo de simulação ou número de observações coletadas, por exemplo. Por sua vez, o segundo tipo de simulação realizado foi a chamada de Simulação de Horizonte Infinito, onde o fim da simulação ocorre quando uma determinada condição acontece, como por exemplo determinar um valor para a largura do intervalo de confiança.\n",
    "\n",
    "Com isso, o experimento desta atividade foi dividido em três partes. A primeira consiste em realizar a Simulação de Horizonte Finito, onde será executada a simulação da fila para diferentes quantidades de clientes. A segunda e terceira parte consistem em realizar a Simulação de Horizonte Infinito, na segunda utilizando a regra de parada de Chow e Robbins e na terceira a regra do tamanho relativo do intervalo de confiança.\n",
    "\n",
    "## Fila M/M/1\n",
    "Uma fila M/M/1 é um modelo simples de simulador. O primeiro M indica que o tempo entre as chegadas dos clientes segue uma distribuição exponencial. O segundo M indica que o tempo de duração no serviço também segue uma distribuição exponencial. Por sua vez, o número 1 indica que há apenas um servidor atendendo todos os clientes desse sistema. O atendimento é realizado no modo FIFO (First In First Out), isto é, os clientes são atendidos na ordem em que forem chegando. \n",
    "\n",
    "Inicialmente, consideramos que não há clientes na fila e não há clientes sendo atendidos. Se não tiver ninguém na fila e nem no serviço, o cliente vai direto para o serviço, caso contrário o cliente tem que ir para a fila e é atendido quando o cliente que estava a sua frente sai do atendimento. Com isso, observamos que o tempo de espera do cliente é a diferença entre o instante que ele entra no atendimento e o instante que ele chegou no sistema.\n",
    "\n",
    "Para obtermos o tempo de chegada ($T_{c}$) e o tempo de duração do atendimento ($T_{s}$) usaremos a geração de uma variável aleatória exponencial com média $\\beta$, dada por \n",
    "\n",
    "$$\n",
    "X = -\\beta \\times ln(1 - U)\n",
    "$$\n",
    "\n",
    "onde U é a geração de um número aleatório entre 0 e 1 que será fornecido por meio do uso do gerador de números aleatórios utilizado na linguagem de programação Python, que como observado na Atividade 1 obteve o melhor valor de estatística dado pelo Teste Chi-Quadrado ($X^{2}$).\n",
    "\n",
    "Como proposto na descrição da atividade, consideramos que a taxa de chegada ($\\lambda$) é de 9 clientes por segundo. Para encontrar o intervalo de tempo entre clientes podemos usar uma regra de 3: \n",
    "\n",
    "$$\n",
    "1 \\ segundo \\longrightarrow 9 \\ clientes \\\\\n",
    "T_{c} \\longrightarrow 1 \\ cliente \\\\\n",
    "T_{c} = 1/9 \\ segundo\n",
    "$$\n",
    "\n",
    "Isso significa que chega 1 cliente a cada 1/9 segundo, isto é, $T_c$ é uma variável aleatória com média 1/9 ($\\beta=1/9$).\n",
    "\n",
    "O raciocínio é análogo para a taxa de serviço ($\\mu$) que, como proposto na atividade, é de 10 clientes por segundo. Dessa forma,\n",
    "\n",
    "$$\n",
    "1 \\ segundo \\longrightarrow 10 \\ clientes \\\\\n",
    "T_{s} \\longrightarrow 1 \\ cliente \\\\\n",
    "T_{s} = 1/10 \\ segundo\n",
    "$$\n",
    "\n",
    "Isso significa que o atendimento de 1 cliente dura, em média, 1/10 segundo. Logo, $T_{s}$ é uma variável aleatória com média 1/10 ($\\beta=1/10$)"
   ]
  },
  {
   "cell_type": "markdown",
   "id": "6184a57d",
   "metadata": {},
   "source": [
    "## Experimento\n",
    "### Dependências\n",
    "Para reproduzir o experimento é necessário ter o `pip` instalado ou já possuir as bibliotecas instaladas."
   ]
  },
  {
   "cell_type": "code",
   "execution_count": null,
   "id": "a1de2810",
   "metadata": {},
   "outputs": [],
   "source": [
    "!pip3 install numpy\n",
    "!pip3 install tqdm\n",
    "!pip3 install scipy\n",
    "!pip3 install statistics\n",
    "!pip3 install matplotlib"
   ]
  },
  {
   "cell_type": "markdown",
   "id": "2976e7f2",
   "metadata": {},
   "source": [
    "### Imports"
   ]
  },
  {
   "cell_type": "code",
   "execution_count": 2,
   "id": "3a8e7e47",
   "metadata": {},
   "outputs": [],
   "source": [
    "import random\n",
    "import numpy as np\n",
    "import matplotlib.pyplot as plt\n",
    "from statistics import pstdev\n",
    "from scipy.stats import t\n",
    "from tqdm import tqdm\n",
    "from math import sqrt"
   ]
  },
  {
   "cell_type": "markdown",
   "id": "6331602d",
   "metadata": {},
   "source": [
    "### Funções "
   ]
  },
  {
   "cell_type": "code",
   "execution_count": 3,
   "id": "b4c0a96e",
   "metadata": {},
   "outputs": [],
   "source": [
    "def generate_exponential_VA(beta):\n",
    "    return -beta * np.log(1-random.random())\n",
    "\n",
    "def mm1_simulator(N, lambda_, mu, debug=False):\n",
    "    arrival_time = 0\n",
    "    exit_time = 0\n",
    "    waiting_times = []\n",
    "    if debug:\n",
    "        print(f'Simulação para {N} clientes')\n",
    "\n",
    "    for _ in tqdm(range(N), disable=not debug):\n",
    "        arrival_time += generate_exponential_VA(1/lambda_)\n",
    "        service_time = generate_exponential_VA(1/mu)\n",
    "\n",
    "        if arrival_time >= exit_time:\n",
    "            waiting_times.append(0)\n",
    "            exit_time = arrival_time + service_time\n",
    "        else:\n",
    "            waiting_times.append(exit_time - arrival_time)\n",
    "            exit_time += service_time\n",
    "\n",
    "    return waiting_times\n",
    "\n",
    "def metrics(waiting_times, debug=False):\n",
    "    if debug:\n",
    "        print('Gerando métricas ... ', end='')\n",
    "    mean = np.mean(waiting_times)\n",
    "    standard_deviation = pstdev(waiting_times)\n",
    "    t_ = t.ppf(0.95, N-1)\n",
    "    h = (t_ * standard_deviation) / sqrt(N)\n",
    "    if debug:\n",
    "        print('done!')\n",
    "    \n",
    "    return (mean, h)\n",
    "    "
   ]
  },
  {
   "cell_type": "markdown",
   "id": "368b725b",
   "metadata": {},
   "source": [
    "### Parte 1\n",
    "* Implementar em Python uma fila M/M/1.\n",
    "* Execute a simulação da fila M/M/1 gerando $n$ clientes\n",
    "    * $n=10^{3}$, $n=10^{6}$, $n=10^{9}$\n",
    "    * taxa de entrada: $\\lambda=9$ clientes por segundo.\n",
    "    * taxa de serviço: $\\mu=10$ clientes por segundo.\n",
    "* Calcule o tempo de espera $x_{i}$ na fila para cada cliente $i$.\n",
    "* Estimar o tempo médio $\\bar{X}(n)$ de espera na fila M/M/1\n",
    "* Estimar o intervalo de confiança $H$ de $95\\%$.\n",
    "* Para cada valor de $n$, comparar com o valor esperado. Da Teoria das Filas, esse valor é dado por\n",
    "\n",
    "$$\n",
    "E[X]=\\rho\\frac{\\frac{1}{\\mu}}{1-\\rho}, \\ \\ \\ onde \\ \\rho=\\frac{\\lambda}{\\mu}\n",
    "$$"
   ]
  },
  {
   "cell_type": "code",
   "execution_count": 4,
   "id": "1cb68cc8",
   "metadata": {},
   "outputs": [],
   "source": [
    "lambda_ = 9\n",
    "mu = 10\n",
    "rho = lambda_/mu \n",
    "expected_mean = rho*((1/mu)/(1-rho))"
   ]
  },
  {
   "cell_type": "markdown",
   "id": "3d6b766e",
   "metadata": {},
   "source": [
    "Diferente do prosposto na descrição da Parte 1 da atividade, por conta da limitação de memória RAM, não foi realizado o experimento para o número de clientes igual a 1 bilhão ($n=10^{9}$), ao invés disso o máximo conseguido foi de 100 milhões de clientes ($n=10^{8}$). Além disso, foi adicionada quantidades gradativas de clientes afins de termos uma observação melhor do tempo de espera na fila dado o crescimento do número de clientes."
   ]
  },
  {
   "cell_type": "code",
   "execution_count": 4,
   "id": "6c4316e4",
   "metadata": {},
   "outputs": [
    {
     "name": "stdout",
     "output_type": "stream",
     "text": [
      "Simulação para 1000 clientes\n"
     ]
    },
    {
     "name": "stderr",
     "output_type": "stream",
     "text": [
      "100%|███████████████████████████████████████████████████████████████████████████| 1000/1000 [00:00<00:00, 273976.35it/s]\n"
     ]
    },
    {
     "name": "stdout",
     "output_type": "stream",
     "text": [
      "Gerando métricas ... done!\n",
      "Simulação para 10000 clientes\n"
     ]
    },
    {
     "name": "stderr",
     "output_type": "stream",
     "text": [
      "100%|█████████████████████████████████████████████████████████████████████████| 10000/10000 [00:00<00:00, 466936.52it/s]\n"
     ]
    },
    {
     "name": "stdout",
     "output_type": "stream",
     "text": [
      "Gerando métricas ... done!\n",
      "Simulação para 100000 clientes\n"
     ]
    },
    {
     "name": "stderr",
     "output_type": "stream",
     "text": [
      "100%|███████████████████████████████████████████████████████████████████████| 100000/100000 [00:00<00:00, 554123.39it/s]\n"
     ]
    },
    {
     "name": "stdout",
     "output_type": "stream",
     "text": [
      "Gerando métricas ... done!\n",
      "Simulação para 1000000 clientes\n"
     ]
    },
    {
     "name": "stderr",
     "output_type": "stream",
     "text": [
      "100%|█████████████████████████████████████████████████████████████████████| 1000000/1000000 [00:01<00:00, 525143.13it/s]\n"
     ]
    },
    {
     "name": "stdout",
     "output_type": "stream",
     "text": [
      "Gerando métricas ... done!\n",
      "Simulação para 10000000 clientes\n"
     ]
    },
    {
     "name": "stderr",
     "output_type": "stream",
     "text": [
      "100%|███████████████████████████████████████████████████████████████████| 10000000/10000000 [00:21<00:00, 458716.47it/s]\n"
     ]
    },
    {
     "name": "stdout",
     "output_type": "stream",
     "text": [
      "Gerando métricas ... done!\n",
      "Simulação para 100000000 clientes\n"
     ]
    },
    {
     "name": "stderr",
     "output_type": "stream",
     "text": [
      "100%|█████████████████████████████████████████████████████████████████| 100000000/100000000 [03:18<00:00, 503164.29it/s]\n"
     ]
    },
    {
     "name": "stdout",
     "output_type": "stream",
     "text": [
      "Gerando métricas ... done!\n"
     ]
    }
   ],
   "source": [
    "avgs = []\n",
    "confidence_interval = []\n",
    "clients_amount = [10**3, 10**4, 10**5, 10**6, 10**7, 10**8]\n",
    "\n",
    "for i, N in enumerate(clients_amount):\n",
    "    waiting_times = mm1_simulator(N, lambda_, mu, debug=True)\n",
    "    \n",
    "    # calculate mean and confidence interval \n",
    "    mean, h = metrics(waiting_times, debug=True)\n",
    "    avgs.append(mean)\n",
    "    confidence_interval.append(h)\n"
   ]
  },
  {
   "cell_type": "code",
   "execution_count": 5,
   "id": "d2fc71be",
   "metadata": {},
   "outputs": [
    {
     "data": {
      "image/png": "[encoded data removed]",
      "text/plain": [
       "<Figure size 640x480 with 1 Axes>"
      ]
     },
     "metadata": {},
     "output_type": "display_data"
    }
   ],
   "source": [
    "fig, ax = plt.subplots()\n",
    "\n",
    "plt.errorbar([1,2,3,4,5,6], avgs, yerr=confidence_interval, fmt='o', mfc='red', mec='black', ms=5, ecolor='black', capsize=5)\n",
    "plt.xticks([1,2,3,4,5,6], ['10^3','10^4','10^5','10^6','10^7','10^8'])\n",
    "plt.margins(0.2)\n",
    "plt.ylabel('Média de espera', fontsize=14)\n",
    "plt.xlabel('Número de clientes', fontsize=14)\n",
    "\n",
    "plt.axhline(y=expected_mean, color='b', linestyle='--')\n",
    "plt.show()"
   ]
  },
  {
   "cell_type": "markdown",
   "id": "9ce786d2",
   "metadata": {},
   "source": [
    "### Parte 2\n",
    "Em vez de parar a simulação depois de gerar n clientes, a simulação vai parar aplicando a regra de parada de Chow e Robbins.\n",
    "Para isso, n deve crescer indefinidamente e a simulação deve parar quando o intervalo de confiança alcançar um determinado tamanho 2d. Registre o valor final de n. Faça esse experimento para 4 valores de d:  \n",
    "* d = 20\n",
    "* d = 8\n",
    "* d = 4\n",
    "* d = 1"
   ]
  },
  {
   "cell_type": "markdown",
   "id": "371ad455",
   "metadata": {},
   "source": [
    "Dado os valores da média do tempo de espera serem pequenos, como observado pelo cálculo usando a Teoria das Filas, a largura do intervalo de confiança tende a ser muito pequeno quando comparados com os valores de d propostos na Parte 2 da atividade. Como consequência, para um número pequeno de clientes a regra da parada de Chow e Robbins era satisfeita e a simulação encerrada. Com isso, foi optado por usar valores menores para d dividindo cada valor prosposto na atividade por $10^{4}$."
   ]
  },
  {
   "cell_type": "code",
   "execution_count": null,
   "id": "980f2376",
   "metadata": {},
   "outputs": [
    {
     "name": "stdout",
     "output_type": "stream",
     "text": [
      "Para d=0.002 o último valor de N foi 819200\n",
      "Para d=0.0008 o último valor de N foi 6553600\n",
      "Para d=0.0004 o último valor de N foi 26214400\n"
     ]
    }
   ],
   "source": [
    "for d in [20/10**4, 8/10**4, 4/10**4, 1/10**4]:\n",
    "    N = 100\n",
    "    waiting_times = mm1_simulator(N, lambda_, mu)\n",
    "    mean, h = metrics(waiting_times)\n",
    "\n",
    "    while(h >= d):\n",
    "        N = N*2\n",
    "        waiting_times = mm1_simulator(N, lambda_, mu)\n",
    "        mean, h = metrics(waiting_times)\n",
    "        \n",
    "    print(f'Para d={d} o último valor de N foi {N}')"
   ]
  },
  {
   "cell_type": "markdown",
   "id": "242f5a7b",
   "metadata": {},
   "source": [
    "Por questão de tempo disponível o experimento foi interrompido no cálculo para $d=\\frac{1}{10^{4}}$, mostrando que é necessário uma grande quantidade de clientes para diminuir a largura do intervalo de confiança para o valor desejado. Os valores obtidos até o momento de interrupção foram:\n",
    "```\n",
    "Para d=0.002 o último valor de N foi 819200\n",
    "Para d=0.0008 o último valor de N foi 6553600\n",
    "Para d=0.0004 o último valor de N foi 26214400\n",
    "```"
   ]
  },
  {
   "cell_type": "markdown",
   "id": "041df930",
   "metadata": {},
   "source": [
    "### Parte 3\n",
    "Em vez de parar a simulação depois de gerar n clientes, a simulação vai parar aplicando a regra do tamanho relativo do intervalo de confiança. Para isso, n vai crescer indefinidamente. Calcular $\\bar{X}(n)$ e o intervalo de confiança de 95%.  \n",
    "Adotar precisão relativa $\\gamma = 5\\%$  \n",
    "* Se $\\frac{H}{\\bar{X}(n)}\\le \\gamma$, para a simulação, anotar o valor de $\\bar{X}(n)$, H e o valor de n.\n",
    "* Caso contrário, a simulação continua "
   ]
  },
  {
   "cell_type": "code",
   "execution_count": 8,
   "id": "3c09ace8",
   "metadata": {},
   "outputs": [
    {
     "name": "stdout",
     "output_type": "stream",
     "text": [
      "\n",
      "            H: 0.048537995647230575\n",
      "            N: 2048\n",
      "            X(n): 1.2398309545232253\n",
      "        \n"
     ]
    },
    {
     "name": "stderr",
     "output_type": "stream",
     "text": [
      "/tmp/ipykernel_621/471243159.py:6: RuntimeWarning: invalid value encountered in double_scalars\n",
      "  relative_size = h/mean\n"
     ]
    }
   ],
   "source": [
    "N = 1\n",
    "\n",
    "while True:\n",
    "    waiting_times = mm1_simulator(N, lambda_, mu)\n",
    "    mean, h = metrics(waiting_times)\n",
    "    relative_size = h/mean\n",
    "    \n",
    "    if relative_size <= 0.05:\n",
    "        print(f'''\n",
    "            H: {h}\n",
    "            N: {N}\n",
    "            X(n): {mean}\n",
    "        ''')\n",
    "        break;\n",
    "    N = N*2"
   ]
  },
  {
   "cell_type": "markdown",
   "id": "7bbbf190",
   "metadata": {},
   "source": [
    "## Conclusão\n",
    "A atividade mostrou as dificuldades de simular uma fila, em questões de recursos computacionais disponíveis, como memória e a disponibilidade de tempo para aguardar a execução. Além disso, também na escolha dos parâmetros em simulações de horizonte finito, como mostrado na Parte 2 e 3 do experimento em escolher bons valores para $d$ na regra de parada de Chow e Robbins e na escolha do valor de $\\gamma$  na regra do tamanho relativo. Apesar disso, é possível observar, conforme mostrado na Parte 1, que dada a taxa de chegada e de duração do serviço conseguimos estimar um tempo médio de espera em uma Fila M/M/1."
   ]
  }
 ],
 "metadata": {
  "kernelspec": {
   "display_name": "Python 3 (ipykernel)",
   "language": "python",
   "name": "python3"
  },
  "language_info": {
   "codemirror_mode": {
    "name": "ipython",
    "version": 3
   },
   "file_extension": ".py",
   "mimetype": "text/x-python",
   "name": "python",
   "nbconvert_exporter": "python",
   "pygments_lexer": "ipython3",
   "version": "3.8.10"
  }
 },
 "nbformat": 4,
 "nbformat_minor": 5
}
