{
 "cells": [
  {
   "cell_type": "markdown",
   "id": "fccc0829",
   "metadata": {},
   "source": [
    "<div style=\"width: 100%; margin-left: auto; margin-right: auto;\">\n",
    "    <h2 style=\"text-align: center; margin-top: 1%; font-size:32px;\">Avaliação de Desempenho - Atividade 7</h2>\n",
    "</div>"
   ]
  },
  {
   "cell_type": "markdown",
   "id": "74e08d31",
   "metadata": {},
   "source": [
    "**Aluno:** Igor Carvalho da Silva  \n",
    "**Email:** igor.carvalho@icomp.ufam.edu.br  \n",
    "**Matrícula:** 21951288  \n",
    "\n",
    "---"
   ]
  },
  {
   "cell_type": "markdown",
   "id": "5474266b",
   "metadata": {},
   "source": [
    "## Dependências"
   ]
  },
  {
   "cell_type": "code",
   "execution_count": 1,
   "id": "8fda98da",
   "metadata": {},
   "outputs": [
    {
     "name": "stdout",
     "output_type": "stream",
     "text": [
      "Requirement already satisfied: numpy in /home/igor.carvalho/.local/lib/python3.8/site-packages (1.24.1)\n",
      "Requirement already satisfied: pandas in /home/igor.carvalho/.local/lib/python3.8/site-packages (1.5.3)\n",
      "Requirement already satisfied: pytz>=2020.1 in /home/igor.carvalho/.local/lib/python3.8/site-packages (from pandas) (2022.7.1)\n",
      "Requirement already satisfied: numpy>=1.20.3; python_version < \"3.10\" in /home/igor.carvalho/.local/lib/python3.8/site-packages (from pandas) (1.24.1)\n",
      "Requirement already satisfied: python-dateutil>=2.8.1 in /home/igor.carvalho/.local/lib/python3.8/site-packages (from pandas) (2.8.2)\n",
      "Requirement already satisfied: six>=1.5 in /usr/lib/python3/dist-packages (from python-dateutil>=2.8.1->pandas) (1.14.0)\n"
     ]
    }
   ],
   "source": [
    "!pip3 install numpy\n",
    "!pip3 install pandas"
   ]
  },
  {
   "cell_type": "code",
   "execution_count": 2,
   "id": "8f571331",
   "metadata": {},
   "outputs": [],
   "source": [
    "import pandas as pd\n",
    "import numpy as np"
   ]
  },
  {
   "cell_type": "markdown",
   "id": "976c8daf",
   "metadata": {},
   "source": [
    "## Dataset\n",
    "Leitura e tratamento dos dados"
   ]
  },
  {
   "cell_type": "code",
   "execution_count": 3,
   "id": "84d218cb",
   "metadata": {},
   "outputs": [],
   "source": [
    "filename = 'Infocom'"
   ]
  },
  {
   "cell_type": "code",
   "execution_count": 4,
   "id": "e6d7c57c",
   "metadata": {},
   "outputs": [
    {
     "data": {
      "text/html": [
       "<div>\n",
       "<style scoped>\n",
       "    .dataframe tbody tr th:only-of-type {\n",
       "        vertical-align: middle;\n",
       "    }\n",
       "\n",
       "    .dataframe tbody tr th {\n",
       "        vertical-align: top;\n",
       "    }\n",
       "\n",
       "    .dataframe thead th {\n",
       "        text-align: right;\n",
       "    }\n",
       "</style>\n",
       "<table border=\"1\" class=\"dataframe\">\n",
       "  <thead>\n",
       "    <tr style=\"text-align: right;\">\n",
       "      <th></th>\n",
       "      <th>time</th>\n",
       "      <th>conn</th>\n",
       "      <th>src</th>\n",
       "      <th>dest</th>\n",
       "      <th>type</th>\n",
       "    </tr>\n",
       "  </thead>\n",
       "  <tbody>\n",
       "    <tr>\n",
       "      <th>0</th>\n",
       "      <td>20733</td>\n",
       "      <td>CONN</td>\n",
       "      <td>17</td>\n",
       "      <td>6</td>\n",
       "      <td>up</td>\n",
       "    </tr>\n",
       "    <tr>\n",
       "      <th>1</th>\n",
       "      <td>20821</td>\n",
       "      <td>CONN</td>\n",
       "      <td>16</td>\n",
       "      <td>26</td>\n",
       "      <td>up</td>\n",
       "    </tr>\n",
       "    <tr>\n",
       "      <th>2</th>\n",
       "      <td>20826</td>\n",
       "      <td>CONN</td>\n",
       "      <td>13</td>\n",
       "      <td>36</td>\n",
       "      <td>up</td>\n",
       "    </tr>\n",
       "    <tr>\n",
       "      <th>3</th>\n",
       "      <td>20868</td>\n",
       "      <td>CONN</td>\n",
       "      <td>17</td>\n",
       "      <td>32</td>\n",
       "      <td>up</td>\n",
       "    </tr>\n",
       "    <tr>\n",
       "      <th>4</th>\n",
       "      <td>20943</td>\n",
       "      <td>CONN</td>\n",
       "      <td>31</td>\n",
       "      <td>37</td>\n",
       "      <td>up</td>\n",
       "    </tr>\n",
       "    <tr>\n",
       "      <th>...</th>\n",
       "      <td>...</td>\n",
       "      <td>...</td>\n",
       "      <td>...</td>\n",
       "      <td>...</td>\n",
       "      <td>...</td>\n",
       "    </tr>\n",
       "    <tr>\n",
       "      <th>44913</th>\n",
       "      <td>274378</td>\n",
       "      <td>CONN</td>\n",
       "      <td>31</td>\n",
       "      <td>24</td>\n",
       "      <td>down</td>\n",
       "    </tr>\n",
       "    <tr>\n",
       "      <th>44914</th>\n",
       "      <td>274380</td>\n",
       "      <td>CONN</td>\n",
       "      <td>21</td>\n",
       "      <td>24</td>\n",
       "      <td>up</td>\n",
       "    </tr>\n",
       "    <tr>\n",
       "      <th>44915</th>\n",
       "      <td>274883</td>\n",
       "      <td>CONN</td>\n",
       "      <td>21</td>\n",
       "      <td>27</td>\n",
       "      <td>up</td>\n",
       "    </tr>\n",
       "    <tr>\n",
       "      <th>44916</th>\n",
       "      <td>274883</td>\n",
       "      <td>CONN</td>\n",
       "      <td>21</td>\n",
       "      <td>24</td>\n",
       "      <td>down</td>\n",
       "    </tr>\n",
       "    <tr>\n",
       "      <th>44917</th>\n",
       "      <td>274883</td>\n",
       "      <td>CONN</td>\n",
       "      <td>21</td>\n",
       "      <td>27</td>\n",
       "      <td>down</td>\n",
       "    </tr>\n",
       "  </tbody>\n",
       "</table>\n",
       "<p>44918 rows × 5 columns</p>\n",
       "</div>"
      ],
      "text/plain": [
       "         time  conn  src  dest  type\n",
       "0       20733  CONN   17     6    up\n",
       "1       20821  CONN   16    26    up\n",
       "2       20826  CONN   13    36    up\n",
       "3       20868  CONN   17    32    up\n",
       "4       20943  CONN   31    37    up\n",
       "...       ...   ...  ...   ...   ...\n",
       "44913  274378  CONN   31    24  down\n",
       "44914  274380  CONN   21    24    up\n",
       "44915  274883  CONN   21    27    up\n",
       "44916  274883  CONN   21    24  down\n",
       "44917  274883  CONN   21    27  down\n",
       "\n",
       "[44918 rows x 5 columns]"
      ]
     },
     "execution_count": 4,
     "metadata": {},
     "output_type": "execute_result"
    }
   ],
   "source": [
    "df = pd.read_csv(filename + '.csv', sep=' ', header=None, names=['time','conn','src','dest','type'])\n",
    "df"
   ]
  },
  {
   "cell_type": "code",
   "execution_count": 5,
   "id": "5e9fb987",
   "metadata": {},
   "outputs": [],
   "source": [
    "N = max(df['src']) + 1\n",
    "adj_matrix = np.zeros((N,N))"
   ]
  },
  {
   "cell_type": "code",
   "execution_count": 6,
   "id": "9a9ce566",
   "metadata": {},
   "outputs": [],
   "source": [
    "for index, row in df.iterrows():\n",
    "    adj_matrix[row.src][row.dest] = 1\n",
    "    adj_matrix[row.dest][row.src] = 1"
   ]
  },
  {
   "cell_type": "code",
   "execution_count": 7,
   "id": "cc69ed02",
   "metadata": {},
   "outputs": [],
   "source": [
    "df_sorted = df.sort_values(['src','dest','type','time'])\n",
    "df_full_time = pd.DataFrame(columns=['src', 'dest', 'time'])\n",
    "for i in range(N):\n",
    "    for j in range(i,len(adj_matrix[i])):\n",
    "        if(adj_matrix[i][j] == 1):\n",
    "            downs = list(\n",
    "                df_sorted[(df_sorted.src == i) & (df_sorted.dest == j) & (df_sorted.type == 'down')]['time']\n",
    "            )\n",
    "            ups = list(\n",
    "                df_sorted[(df_sorted.src == i) & (df_sorted.dest == j) & (df_sorted.type == 'up')]['time']\n",
    "            )[:len(downs)]\n",
    "            datas = pd.DataFrame([{'src': i, 'dest': j, 'time': down - up} for down, up in zip(downs, ups)])\n",
    "            df_full_time = pd.concat([df_full_time, datas], ignore_index = True)\n",
    "            \n",
    "            downs = list(\n",
    "                df_sorted[(df_sorted.src == j) & (df_sorted.dest == i) & (df_sorted.type == 'down')]['time']\n",
    "            )\n",
    "            ups = list(\n",
    "                df_sorted[(df_sorted.src == j) & (df_sorted.dest == i) & (df_sorted.type == 'up')]['time']\n",
    "            )[:len(downs)]\n",
    "            datas = pd.DataFrame([{'src': i, 'dest': j, 'time': down - up} for down, up in zip(downs, ups)])\n",
    "            df_full_time = pd.concat([df_full_time, datas], ignore_index = True)"
   ]
  },
  {
   "cell_type": "markdown",
   "id": "cfe962a5",
   "metadata": {},
   "source": [
    "## Número de conexões"
   ]
  },
  {
   "cell_type": "code",
   "execution_count": 8,
   "id": "925597bd",
   "metadata": {},
   "outputs": [
    {
     "data": {
      "text/plain": [
       "22459"
      ]
     },
     "execution_count": 8,
     "metadata": {},
     "output_type": "execute_result"
    }
   ],
   "source": [
    "total_connections = len(df[df['type'] == 'up'])\n",
    "total_connections"
   ]
  },
  {
   "cell_type": "markdown",
   "id": "ac877298",
   "metadata": {},
   "source": [
    "## Número de arestas"
   ]
  },
  {
   "cell_type": "code",
   "execution_count": 9,
   "id": "a8ac39b4",
   "metadata": {},
   "outputs": [
    {
     "data": {
      "text/plain": [
       "793.0"
      ]
     },
     "execution_count": 9,
     "metadata": {},
     "output_type": "execute_result"
    }
   ],
   "source": [
    "edges = 0\n",
    "for i in range(N):\n",
    "    edges = edges + sum(adj_matrix[i][i:])\n",
    "edges"
   ]
  },
  {
   "cell_type": "markdown",
   "id": "fc02b56e",
   "metadata": {},
   "source": [
    "## Num médio de conexões por nó"
   ]
  },
  {
   "cell_type": "code",
   "execution_count": 10,
   "id": "2f19f3ef",
   "metadata": {},
   "outputs": [
    {
     "data": {
      "text/plain": [
       "547.780487804878"
      ]
     },
     "execution_count": 10,
     "metadata": {},
     "output_type": "execute_result"
    }
   ],
   "source": [
    "nodes = len(set(list(df['src']) + list(df['dest'])))\n",
    "connections_by_nodes = total_connections/nodes\n",
    "connections_by_nodes"
   ]
  },
  {
   "cell_type": "markdown",
   "id": "b5990e88",
   "metadata": {},
   "source": [
    "## Conexões por minuto"
   ]
  },
  {
   "cell_type": "code",
   "execution_count": 11,
   "id": "ec656024",
   "metadata": {},
   "outputs": [
    {
     "data": {
      "text/plain": [
       "4.902231131063035"
      ]
     },
     "execution_count": 11,
     "metadata": {},
     "output_type": "execute_result"
    }
   ],
   "source": [
    "connections_by_minute = total_connections/(max(df['time'])/60)\n",
    "connections_by_minute"
   ]
  },
  {
   "cell_type": "markdown",
   "id": "e7372c1c",
   "metadata": {},
   "source": [
    "## Tempo total de conexão"
   ]
  },
  {
   "cell_type": "code",
   "execution_count": 12,
   "id": "aac4ed81",
   "metadata": {},
   "outputs": [
    {
     "data": {
      "text/plain": [
       "5204992"
      ]
     },
     "execution_count": 12,
     "metadata": {},
     "output_type": "execute_result"
    }
   ],
   "source": [
    "total_time_connection = df_full_time['time'].sum()\n",
    "total_time_connection"
   ]
  },
  {
   "cell_type": "markdown",
   "id": "4ab8192e",
   "metadata": {},
   "source": [
    "## Tempo médio de conexão"
   ]
  },
  {
   "cell_type": "code",
   "execution_count": 13,
   "id": "fd8bc0ab",
   "metadata": {},
   "outputs": [
    {
     "data": {
      "text/plain": [
       "126951.0243902439"
      ]
     },
     "execution_count": 13,
     "metadata": {},
     "output_type": "execute_result"
    }
   ],
   "source": [
    "mean_time_connection = total_time_connection/nodes\n",
    "mean_time_connection"
   ]
  },
  {
   "cell_type": "markdown",
   "id": "b8ca4750",
   "metadata": {},
   "source": [
    "## Grupo com mais nós conectados\n",
    "(Sugestão: utilizar slots de 3h)"
   ]
  },
  {
   "cell_type": "code",
   "execution_count": 14,
   "id": "14ad8298",
   "metadata": {},
   "outputs": [],
   "source": [
    "output_file = filename + '-group.txt'"
   ]
  },
  {
   "cell_type": "code",
   "execution_count": 15,
   "id": "038bb60e",
   "metadata": {},
   "outputs": [],
   "source": [
    "slots = [list() for _ in range(df_full_time['time'].max() // 10800 + 1)]"
   ]
  },
  {
   "cell_type": "code",
   "execution_count": 16,
   "id": "93e098ae",
   "metadata": {},
   "outputs": [],
   "source": [
    "for index, row in df_full_time.iterrows():\n",
    "    obj = {'src': row.src, 'dest': row.dest, 'time': row.time}\n",
    "    slots[row.time//10800].append(obj)"
   ]
  },
  {
   "cell_type": "code",
   "execution_count": 17,
   "id": "0aba471f",
   "metadata": {},
   "outputs": [],
   "source": [
    "slots.sort(reverse=True, key=lambda x: len(x))"
   ]
  },
  {
   "cell_type": "code",
   "execution_count": 18,
   "id": "89a3783f",
   "metadata": {},
   "outputs": [
    {
     "name": "stdout",
     "output_type": "stream",
     "text": [
      "Tamanho do grupo com mais nós conectados: 22439\n",
      "O grupo será salvo no arquivo Infocom-group.txt\n"
     ]
    }
   ],
   "source": [
    "print(f'Tamanho do grupo com mais nós conectados: {len(slots[0])}')\n",
    "print(f'O grupo será salvo no arquivo {output_file}')\n",
    "with open(output_file, 'w') as file:\n",
    "    for data in slots[0]:\n",
    "        file.writelines(str(data) + '\\n')"
   ]
  },
  {
   "cell_type": "markdown",
   "id": "e1bc3593",
   "metadata": {},
   "source": [
    "## Média dos grupos com mais nós conectados\n",
    "Como \"os com mais nós conectados\", foram escolhidos os 10 mais conectados, definido pela variável `n_rank`."
   ]
  },
  {
   "cell_type": "code",
   "execution_count": 19,
   "id": "01c2f487",
   "metadata": {},
   "outputs": [],
   "source": [
    "n_rank = 10"
   ]
  },
  {
   "cell_type": "code",
   "execution_count": 20,
   "id": "4efc83e3",
   "metadata": {},
   "outputs": [
    {
     "data": {
      "text/plain": [
       "2245.9"
      ]
     },
     "execution_count": 20,
     "metadata": {},
     "output_type": "execute_result"
    }
   ],
   "source": [
    "mean_slots = sum(list(map(lambda x: len(x), slots[:n_rank])))/10\n",
    "mean_slots"
   ]
  },
  {
   "cell_type": "markdown",
   "id": "d31781d6",
   "metadata": {},
   "source": [
    "## Mediana dos grupos com mais nós conectados"
   ]
  },
  {
   "cell_type": "code",
   "execution_count": 21,
   "id": "a5f5fcdf",
   "metadata": {},
   "outputs": [],
   "source": [
    "top_slots = []\n",
    "for slot in slots[:n_rank]:\n",
    "    top_slots.append(list(map(lambda x: x['time'], slot)))"
   ]
  },
  {
   "cell_type": "code",
   "execution_count": 22,
   "id": "ddf37cb6",
   "metadata": {},
   "outputs": [
    {
     "data": {
      "text/plain": [
       "20622.5"
      ]
     },
     "execution_count": 22,
     "metadata": {},
     "output_type": "execute_result"
    }
   ],
   "source": [
    "np.median(list(map(lambda x: np.median(x), top_slots)))"
   ]
  },
  {
   "cell_type": "markdown",
   "id": "96c6331c",
   "metadata": {},
   "source": [
    "## Número médio de nós conectados"
   ]
  },
  {
   "cell_type": "code",
   "execution_count": 23,
   "id": "283f2720",
   "metadata": {},
   "outputs": [],
   "source": [
    "def count_nodes(slot):\n",
    "    m = np.zeros((N,N))\n",
    "    for n in slot:\n",
    "        m[n['src']][n['dest']] = 1\n",
    "        m[n['dest']][n['src']] = 1\n",
    "    edges = 0\n",
    "    for i in range(N):\n",
    "        edges = edges + sum(m[i][i:])\n",
    "    return edges * 2"
   ]
  },
  {
   "cell_type": "code",
   "execution_count": 24,
   "id": "dadc23b9",
   "metadata": {},
   "outputs": [
    {
     "data": {
      "text/plain": [
       "401.0"
      ]
     },
     "execution_count": 24,
     "metadata": {},
     "output_type": "execute_result"
    }
   ],
   "source": [
    "nodes_by_slot = list(map(count_nodes, slots))\n",
    "mean_nodes_by_slots = sum(nodes_by_slot)/len(slots)\n",
    "mean_nodes_by_slots"
   ]
  },
  {
   "cell_type": "markdown",
   "id": "80a83965",
   "metadata": {},
   "source": [
    "## Mediana do número de nós conectados"
   ]
  },
  {
   "cell_type": "code",
   "execution_count": 25,
   "id": "fd9e4eb5",
   "metadata": {},
   "outputs": [
    {
     "data": {
      "text/plain": [
       "8.0"
      ]
     },
     "execution_count": 25,
     "metadata": {},
     "output_type": "execute_result"
    }
   ],
   "source": [
    "nodes_by_slot.sort()\n",
    "median_nodes_by_slots = np.median(nodes_by_slot)\n",
    "median_nodes_by_slots"
   ]
  },
  {
   "cell_type": "markdown",
   "id": "aa3ab869",
   "metadata": {},
   "source": [
    "## Maior grau dos nós por slot"
   ]
  },
  {
   "cell_type": "code",
   "execution_count": 26,
   "id": "892cccbc",
   "metadata": {},
   "outputs": [],
   "source": [
    "def max_degree(slot):\n",
    "    m = np.zeros((N,N))\n",
    "    for n in slot:\n",
    "        m[n['src']][n['dest']] = 1\n",
    "        m[n['dest']][n['src']] = 1\n",
    "    degrees = []\n",
    "    for i in range(N):\n",
    "        degrees.append(sum(m[i]))\n",
    "    return max(degrees)"
   ]
  },
  {
   "cell_type": "code",
   "execution_count": 27,
   "id": "259f9ba2",
   "metadata": {},
   "outputs": [
    {
     "name": "stdout",
     "output_type": "stream",
     "text": [
      "Slot: 0, Maior Grau: 40.0\n",
      "Slot: 1, Maior Grau: 2.0\n",
      "Slot: 2, Maior Grau: 1.0\n",
      "Slot: 3, Maior Grau: 1.0\n"
     ]
    }
   ],
   "source": [
    "max_degrees_by_slot = list(map(max_degree, slots))\n",
    "for i, degree in enumerate(max_degrees_by_slot):\n",
    "    print(f'Slot: {i}, Maior Grau: {degree}')"
   ]
  },
  {
   "cell_type": "markdown",
   "id": "062c6ab3",
   "metadata": {},
   "source": [
    "## Grau médio dos nós por slot"
   ]
  },
  {
   "cell_type": "code",
   "execution_count": 28,
   "id": "a95f99d9",
   "metadata": {},
   "outputs": [],
   "source": [
    "def mean_degree(slot):\n",
    "    m = np.zeros((N,N))\n",
    "    for n in slot:\n",
    "        m[n['src']][n['dest']] = 1\n",
    "        m[n['dest']][n['src']] = 1\n",
    "    degrees = []\n",
    "    for i in range(N):\n",
    "        degrees.append(sum(m[i]))\n",
    "    nodes = count_nodes(slot)\n",
    "    if(nodes != 0):\n",
    "        return sum(degrees)/nodes\n",
    "    return 0"
   ]
  },
  {
   "cell_type": "code",
   "execution_count": 29,
   "id": "67786d57",
   "metadata": {},
   "outputs": [
    {
     "name": "stdout",
     "output_type": "stream",
     "text": [
      "Slot: 0, Média: 1.0\n",
      "Slot: 1, Média: 1.0\n",
      "Slot: 2, Média: 1.0\n",
      "Slot: 3, Média: 1.0\n"
     ]
    }
   ],
   "source": [
    "mean_degrees_by_slot = list(map(mean_degree, slots))\n",
    "for i, mean in enumerate(mean_degrees_by_slot):\n",
    "    print(f'Slot: {i}, Média: {mean}')"
   ]
  },
  {
   "cell_type": "markdown",
   "id": "28ad1616",
   "metadata": {},
   "source": [
    "## Criar uma lista dos contatos e suas durações\n",
    "$(i,j,T_{ij})$ para todo $i,j \\in N$"
   ]
  },
  {
   "cell_type": "code",
   "execution_count": 30,
   "id": "52d773cb",
   "metadata": {},
   "outputs": [],
   "source": [
    "output_file = 'lista_infocom.txt'"
   ]
  },
  {
   "cell_type": "code",
   "execution_count": 31,
   "id": "355eff6d",
   "metadata": {},
   "outputs": [
    {
     "name": "stdout",
     "output_type": "stream",
     "text": [
      "A lista de contatos será salva no arquivo lista_infocom.txt\n"
     ]
    }
   ],
   "source": [
    "print(f'A lista de contatos será salva no arquivo {output_file}')\n",
    "df_full_time.to_csv(output_file, sep=' ', index=False)"
   ]
  },
  {
   "cell_type": "markdown",
   "id": "1debfbe2",
   "metadata": {},
   "source": [
    "## Densidade do trace\n",
    "$D = \\frac{2|E|}{|V|(|V|-1)}$"
   ]
  },
  {
   "cell_type": "code",
   "execution_count": 32,
   "id": "b1d8492e",
   "metadata": {},
   "outputs": [
    {
     "data": {
      "text/plain": [
       "0.9670731707317073"
      ]
     },
     "execution_count": 32,
     "metadata": {},
     "output_type": "execute_result"
    }
   ],
   "source": [
    "density = (2*edges)/(nodes*(nodes-1))\n",
    "density"
   ]
  }
 ],
 "metadata": {
  "kernelspec": {
   "display_name": "Python 3 (ipykernel)",
   "language": "python",
   "name": "python3"
  },
  "language_info": {
   "codemirror_mode": {
    "name": "ipython",
    "version": 3
   },
   "file_extension": ".py",
   "mimetype": "text/x-python",
   "name": "python",
   "nbconvert_exporter": "python",
   "pygments_lexer": "ipython3",
   "version": "3.8.10"
  }
 },
 "nbformat": 4,
 "nbformat_minor": 5
}
