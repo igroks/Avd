{
 "cells": [
  {
   "cell_type": "markdown",
   "id": "33b5731e",
   "metadata": {},
   "source": [
    "<div style=\"width: 100%; margin-left: auto; margin-right: auto;\">\n",
    "    <h2 style=\"text-align: center; margin-top: 1%; font-size:32px;\">Avaliação de Desempenho - Atividade 6</h2>\n",
    "</div>"
   ]
  },
  {
   "cell_type": "markdown",
   "id": "a0dfa2e5",
   "metadata": {},
   "source": [
    "**Aluno:** Igor Carvalho da Silva  \n",
    "**Email:** igor.carvalho@icomp.ufam.edu.br  \n",
    "**Matrícula:** 21951288  \n",
    "\n",
    "---"
   ]
  },
  {
   "cell_type": "markdown",
   "id": "99725b00",
   "metadata": {},
   "source": [
    "## Introdução\n",
    "Quando realizamos um experimento existem variáveis que afetam a variável resposta, chamados de fatores, como por exemplo tamanho da memória e carga do sistema. Ignorar esses fatores e não isolar os efeitos pode conduzir a experimentos ruins. Com isso, precisamos tentar reduzir a quantidade de fatores, escolhendo aqueles que têm impacto no desempenho utilizando o Projeto de Experimentos $2^{k}$ fatorial que irá ajudar a decidir qual fator é mais significativo.  \n",
    "\n",
    "## Atividade\n",
    "Implementar em Python o projeto de experimentos do tipo 2^k fatorial.  \n",
    "\n",
    "### Dependências\n",
    "Para reproduzir o experimento é necessário ter o `pip` instalado ou já possuir as bibliotecas instaladas."
   ]
  },
  {
   "cell_type": "code",
   "execution_count": 1,
   "id": "824daf03",
   "metadata": {},
   "outputs": [
    {
     "name": "stdout",
     "output_type": "stream",
     "text": [
      "Requirement already satisfied: numpy in /home/igor.carvalho/.local/lib/python3.8/site-packages (1.24.1)\n",
      "Collecting pandas\n",
      "  Downloading pandas-1.5.3-cp38-cp38-manylinux_2_17_x86_64.manylinux2014_x86_64.whl (12.2 MB)\n",
      "\u001b[K     |████████████████████████████████| 12.2 MB 6.2 MB/s eta 0:00:01\n",
      "\u001b[?25hRequirement already satisfied: python-dateutil>=2.8.1 in /home/igor.carvalho/.local/lib/python3.8/site-packages (from pandas) (2.8.2)\n",
      "Collecting pytz>=2020.1\n",
      "  Downloading pytz-2022.7.1-py2.py3-none-any.whl (499 kB)\n",
      "\u001b[K     |████████████████████████████████| 499 kB 10.9 MB/s eta 0:00:01\n",
      "\u001b[?25hRequirement already satisfied: numpy>=1.20.3; python_version < \"3.10\" in /home/igor.carvalho/.local/lib/python3.8/site-packages (from pandas) (1.24.1)\n",
      "Requirement already satisfied: six>=1.5 in /usr/lib/python3/dist-packages (from python-dateutil>=2.8.1->pandas) (1.14.0)\n",
      "Installing collected packages: pytz, pandas\n",
      "Successfully installed pandas-1.5.3 pytz-2022.7.1\n"
     ]
    }
   ],
   "source": [
    "!pip3 install numpy\n",
    "!pip3 install pandas"
   ]
  },
  {
   "cell_type": "markdown",
   "id": "2ea25f73",
   "metadata": {},
   "source": [
    "### Imports"
   ]
  },
  {
   "cell_type": "code",
   "execution_count": 2,
   "id": "70494b8b",
   "metadata": {},
   "outputs": [],
   "source": [
    "import itertools as it\n",
    "import numpy as np\n",
    "import pandas as pd\n",
    "from functools import reduce"
   ]
  },
  {
   "cell_type": "markdown",
   "id": "ecdb067b",
   "metadata": {},
   "source": [
    "### a) O usuário deve escolher a quantidade de fatores entre k=2 e k=5;"
   ]
  },
  {
   "cell_type": "code",
   "execution_count": 29,
   "id": "27b322e2",
   "metadata": {},
   "outputs": [
    {
     "name": "stdout",
     "output_type": "stream",
     "text": [
      "Número de fatores (K, 2 <= K <= 5): 3\n"
     ]
    }
   ],
   "source": [
    "k = int(input('Número de fatores (K, 2 <= K <= 5): '))"
   ]
  },
  {
   "cell_type": "markdown",
   "id": "c58503d0",
   "metadata": {},
   "source": [
    "### b) O usuário deve informar o maior valor (+1) e o menor valor (-1) de cada fator;"
   ]
  },
  {
   "cell_type": "code",
   "execution_count": 30,
   "id": "5917ec36",
   "metadata": {},
   "outputs": [
    {
     "name": "stdout",
     "output_type": "stream",
     "text": [
      "Para o fator 1 (k=1)\n",
      "Menor valor: 1\n",
      "Maior valor: 2\n",
      "Para o fator 2 (k=2)\n",
      "Menor valor: 4\n",
      "Maior valor: 16\n",
      "Para o fator 3 (k=3)\n",
      "Menor valor: 1\n",
      "Maior valor: 2\n"
     ]
    }
   ],
   "source": [
    "factors_values = []\n",
    "for i in range(k):\n",
    "    print(f'Para o fator {i+1} (k={i+1})')\n",
    "    smaller = int(input('Menor valor: '))\n",
    "    bigger = int(input('Maior valor: '))\n",
    "    factors_values.append((smaller, bigger))"
   ]
  },
  {
   "cell_type": "markdown",
   "id": "ab09d932",
   "metadata": {},
   "source": [
    "### c) O usuário deve informar quantas vezes cada execução piloto será repetida."
   ]
  },
  {
   "cell_type": "code",
   "execution_count": 31,
   "id": "cbe5b7b7",
   "metadata": {},
   "outputs": [
    {
     "name": "stdout",
     "output_type": "stream",
     "text": [
      "Quantas vezes cada execução piloto será repetida? 1\n"
     ]
    }
   ],
   "source": [
    "pilot_repeat = int(input('Quantas vezes cada execução piloto será repetida? '))"
   ]
  },
  {
   "cell_type": "markdown",
   "id": "51ea2aa0",
   "metadata": {},
   "source": [
    "### d) A aplicação deve exibir a tabela de sinais; "
   ]
  },
  {
   "cell_type": "code",
   "execution_count": 32,
   "id": "5829c407",
   "metadata": {},
   "outputs": [
    {
     "data": {
      "text/html": [
       "<div>\n",
       "<style scoped>\n",
       "    .dataframe tbody tr th:only-of-type {\n",
       "        vertical-align: middle;\n",
       "    }\n",
       "\n",
       "    .dataframe tbody tr th {\n",
       "        vertical-align: top;\n",
       "    }\n",
       "\n",
       "    .dataframe thead th {\n",
       "        text-align: right;\n",
       "    }\n",
       "</style>\n",
       "<table border=\"1\" class=\"dataframe\">\n",
       "  <thead>\n",
       "    <tr style=\"text-align: right;\">\n",
       "      <th></th>\n",
       "      <th>I</th>\n",
       "      <th>A</th>\n",
       "      <th>B</th>\n",
       "      <th>C</th>\n",
       "      <th>AB</th>\n",
       "      <th>AC</th>\n",
       "      <th>BC</th>\n",
       "      <th>ABC</th>\n",
       "      <th>y</th>\n",
       "    </tr>\n",
       "  </thead>\n",
       "  <tbody>\n",
       "    <tr>\n",
       "      <th>0</th>\n",
       "      <td>1</td>\n",
       "      <td>-1</td>\n",
       "      <td>-1</td>\n",
       "      <td>-1</td>\n",
       "      <td>1</td>\n",
       "      <td>1</td>\n",
       "      <td>1</td>\n",
       "      <td>-1</td>\n",
       "      <td></td>\n",
       "    </tr>\n",
       "    <tr>\n",
       "      <th>1</th>\n",
       "      <td>1</td>\n",
       "      <td>-1</td>\n",
       "      <td>-1</td>\n",
       "      <td>1</td>\n",
       "      <td>1</td>\n",
       "      <td>-1</td>\n",
       "      <td>-1</td>\n",
       "      <td>1</td>\n",
       "      <td></td>\n",
       "    </tr>\n",
       "    <tr>\n",
       "      <th>2</th>\n",
       "      <td>1</td>\n",
       "      <td>-1</td>\n",
       "      <td>1</td>\n",
       "      <td>-1</td>\n",
       "      <td>-1</td>\n",
       "      <td>1</td>\n",
       "      <td>-1</td>\n",
       "      <td>1</td>\n",
       "      <td></td>\n",
       "    </tr>\n",
       "    <tr>\n",
       "      <th>3</th>\n",
       "      <td>1</td>\n",
       "      <td>-1</td>\n",
       "      <td>1</td>\n",
       "      <td>1</td>\n",
       "      <td>-1</td>\n",
       "      <td>-1</td>\n",
       "      <td>1</td>\n",
       "      <td>-1</td>\n",
       "      <td></td>\n",
       "    </tr>\n",
       "    <tr>\n",
       "      <th>4</th>\n",
       "      <td>1</td>\n",
       "      <td>1</td>\n",
       "      <td>-1</td>\n",
       "      <td>-1</td>\n",
       "      <td>-1</td>\n",
       "      <td>-1</td>\n",
       "      <td>1</td>\n",
       "      <td>1</td>\n",
       "      <td></td>\n",
       "    </tr>\n",
       "    <tr>\n",
       "      <th>5</th>\n",
       "      <td>1</td>\n",
       "      <td>1</td>\n",
       "      <td>-1</td>\n",
       "      <td>1</td>\n",
       "      <td>-1</td>\n",
       "      <td>1</td>\n",
       "      <td>-1</td>\n",
       "      <td>-1</td>\n",
       "      <td></td>\n",
       "    </tr>\n",
       "    <tr>\n",
       "      <th>6</th>\n",
       "      <td>1</td>\n",
       "      <td>1</td>\n",
       "      <td>1</td>\n",
       "      <td>-1</td>\n",
       "      <td>1</td>\n",
       "      <td>-1</td>\n",
       "      <td>-1</td>\n",
       "      <td>-1</td>\n",
       "      <td></td>\n",
       "    </tr>\n",
       "    <tr>\n",
       "      <th>7</th>\n",
       "      <td>1</td>\n",
       "      <td>1</td>\n",
       "      <td>1</td>\n",
       "      <td>1</td>\n",
       "      <td>1</td>\n",
       "      <td>1</td>\n",
       "      <td>1</td>\n",
       "      <td>1</td>\n",
       "      <td></td>\n",
       "    </tr>\n",
       "  </tbody>\n",
       "</table>\n",
       "</div>"
      ],
      "text/plain": [
       "   I  A  B  C  AB  AC  BC  ABC y\n",
       "0  1 -1 -1 -1   1   1   1   -1  \n",
       "1  1 -1 -1  1   1  -1  -1    1  \n",
       "2  1 -1  1 -1  -1   1  -1    1  \n",
       "3  1 -1  1  1  -1  -1   1   -1  \n",
       "4  1  1 -1 -1  -1  -1   1    1  \n",
       "5  1  1 -1  1  -1   1  -1   -1  \n",
       "6  1  1  1 -1   1  -1  -1   -1  \n",
       "7  1  1  1  1   1   1   1    1  "
      ]
     },
     "execution_count": 32,
     "metadata": {},
     "output_type": "execute_result"
    }
   ],
   "source": [
    "values = np.array(list(it.product([-1, 1], repeat=k))).T\n",
    "factors = [chr(65+i) for i in range(k)]\n",
    "signal_table = pd.DataFrame([1]*2**k,columns=[\"I\"])\n",
    "factors_combinations = reduce(lambda L, R: L + R, [list(it.combinations(factors, i)) for i in range(2, k + 1)])\n",
    "\n",
    "for i in range(k):\n",
    "    signal_table[factors[i]] = values[i]\n",
    "    \n",
    "for combination in factors_combinations:\n",
    "    col = \"\".join(map(str,combination))\n",
    "    signal_table[col] = 1\n",
    "    for factor in combination:\n",
    "        signal_table[col] *= signal_table[factor]\n",
    "signal_table['y'] = \"\"\n",
    "signal_table"
   ]
  },
  {
   "cell_type": "markdown",
   "id": "9d2d6d04",
   "metadata": {},
   "source": [
    "### e) O usuário deve informar o(s) resultado(s) de uma execução piloto com aquela combinação;"
   ]
  },
  {
   "cell_type": "code",
   "execution_count": 33,
   "id": "caa0fbdb",
   "metadata": {},
   "outputs": [
    {
     "name": "stdout",
     "output_type": "stream",
     "text": [
      "\n",
      "    Digite os resultados das observações, caso houver, serparados por \",\".\n",
      "    Apenas os 1 primeiros resultados digitados serão considerados.\n",
      "\n",
      "\n",
      "Fator 1  Fator 2  Fator 3  Resultados\n",
      "1        4        1       14\n",
      "1        4        2       22\n",
      "1        16        1       10\n",
      "1        16        2       16\n",
      "2        4        1       18\n",
      "2        4        2       20\n",
      "2        16        1       22\n",
      "2        16        2       24\n"
     ]
    }
   ],
   "source": [
    "results = []\n",
    "print(f'''\n",
    "    Digite os resultados das observações, caso houver, serparados por \",\".\n",
    "    Apenas os {pilot_repeat} primeiros resultados digitados serão considerados.\n",
    "''', end='\\n\\n')\n",
    "\n",
    "for f in range(k):\n",
    "    print(f'Fator {f+1}  ', end='')\n",
    "print('Resultados')\n",
    "\n",
    "for j in range(2**k):\n",
    "    signals = list(signal_table.iloc[j][1:k+1])\n",
    "    values = [factors_values[f][0] if signal == -1 else factors_values[f][1] for f, signal in enumerate(signals)]\n",
    "    print(str(values)[1:-1].replace(',',' '*7)+' '*7, end='')\n",
    "    results.append([int(item) for item in input().split(',')[:pilot_repeat]])"
   ]
  },
  {
   "cell_type": "code",
   "execution_count": 34,
   "id": "e66796d4",
   "metadata": {},
   "outputs": [
    {
     "data": {
      "text/html": [
       "<div>\n",
       "<style scoped>\n",
       "    .dataframe tbody tr th:only-of-type {\n",
       "        vertical-align: middle;\n",
       "    }\n",
       "\n",
       "    .dataframe tbody tr th {\n",
       "        vertical-align: top;\n",
       "    }\n",
       "\n",
       "    .dataframe thead th {\n",
       "        text-align: right;\n",
       "    }\n",
       "</style>\n",
       "<table border=\"1\" class=\"dataframe\">\n",
       "  <thead>\n",
       "    <tr style=\"text-align: right;\">\n",
       "      <th></th>\n",
       "      <th>I</th>\n",
       "      <th>A</th>\n",
       "      <th>B</th>\n",
       "      <th>C</th>\n",
       "      <th>AB</th>\n",
       "      <th>AC</th>\n",
       "      <th>BC</th>\n",
       "      <th>ABC</th>\n",
       "      <th>y</th>\n",
       "    </tr>\n",
       "  </thead>\n",
       "  <tbody>\n",
       "    <tr>\n",
       "      <th>0</th>\n",
       "      <td>1</td>\n",
       "      <td>-1</td>\n",
       "      <td>-1</td>\n",
       "      <td>-1</td>\n",
       "      <td>1</td>\n",
       "      <td>1</td>\n",
       "      <td>1</td>\n",
       "      <td>-1</td>\n",
       "      <td>[14]</td>\n",
       "    </tr>\n",
       "    <tr>\n",
       "      <th>1</th>\n",
       "      <td>1</td>\n",
       "      <td>-1</td>\n",
       "      <td>-1</td>\n",
       "      <td>1</td>\n",
       "      <td>1</td>\n",
       "      <td>-1</td>\n",
       "      <td>-1</td>\n",
       "      <td>1</td>\n",
       "      <td>[22]</td>\n",
       "    </tr>\n",
       "    <tr>\n",
       "      <th>2</th>\n",
       "      <td>1</td>\n",
       "      <td>-1</td>\n",
       "      <td>1</td>\n",
       "      <td>-1</td>\n",
       "      <td>-1</td>\n",
       "      <td>1</td>\n",
       "      <td>-1</td>\n",
       "      <td>1</td>\n",
       "      <td>[10]</td>\n",
       "    </tr>\n",
       "    <tr>\n",
       "      <th>3</th>\n",
       "      <td>1</td>\n",
       "      <td>-1</td>\n",
       "      <td>1</td>\n",
       "      <td>1</td>\n",
       "      <td>-1</td>\n",
       "      <td>-1</td>\n",
       "      <td>1</td>\n",
       "      <td>-1</td>\n",
       "      <td>[16]</td>\n",
       "    </tr>\n",
       "    <tr>\n",
       "      <th>4</th>\n",
       "      <td>1</td>\n",
       "      <td>1</td>\n",
       "      <td>-1</td>\n",
       "      <td>-1</td>\n",
       "      <td>-1</td>\n",
       "      <td>-1</td>\n",
       "      <td>1</td>\n",
       "      <td>1</td>\n",
       "      <td>[18]</td>\n",
       "    </tr>\n",
       "    <tr>\n",
       "      <th>5</th>\n",
       "      <td>1</td>\n",
       "      <td>1</td>\n",
       "      <td>-1</td>\n",
       "      <td>1</td>\n",
       "      <td>-1</td>\n",
       "      <td>1</td>\n",
       "      <td>-1</td>\n",
       "      <td>-1</td>\n",
       "      <td>[20]</td>\n",
       "    </tr>\n",
       "    <tr>\n",
       "      <th>6</th>\n",
       "      <td>1</td>\n",
       "      <td>1</td>\n",
       "      <td>1</td>\n",
       "      <td>-1</td>\n",
       "      <td>1</td>\n",
       "      <td>-1</td>\n",
       "      <td>-1</td>\n",
       "      <td>-1</td>\n",
       "      <td>[22]</td>\n",
       "    </tr>\n",
       "    <tr>\n",
       "      <th>7</th>\n",
       "      <td>1</td>\n",
       "      <td>1</td>\n",
       "      <td>1</td>\n",
       "      <td>1</td>\n",
       "      <td>1</td>\n",
       "      <td>1</td>\n",
       "      <td>1</td>\n",
       "      <td>1</td>\n",
       "      <td>[24]</td>\n",
       "    </tr>\n",
       "  </tbody>\n",
       "</table>\n",
       "</div>"
      ],
      "text/plain": [
       "   I  A  B  C  AB  AC  BC  ABC     y\n",
       "0  1 -1 -1 -1   1   1   1   -1  [14]\n",
       "1  1 -1 -1  1   1  -1  -1    1  [22]\n",
       "2  1 -1  1 -1  -1   1  -1    1  [10]\n",
       "3  1 -1  1  1  -1  -1   1   -1  [16]\n",
       "4  1  1 -1 -1  -1  -1   1    1  [18]\n",
       "5  1  1 -1  1  -1   1  -1   -1  [20]\n",
       "6  1  1  1 -1   1  -1  -1   -1  [22]\n",
       "7  1  1  1  1   1   1   1    1  [24]"
      ]
     },
     "execution_count": 34,
     "metadata": {},
     "output_type": "execute_result"
    }
   ],
   "source": [
    "signal_table['y'] = results\n",
    "if pilot_repeat > 1:\n",
    "    signal_table['y_mean'] = list(map(lambda x: np.mean(x),results))\n",
    "signal_table"
   ]
  },
  {
   "cell_type": "markdown",
   "id": "972d9ec5",
   "metadata": {},
   "source": [
    "### f) A aplicação deve mostrar a fração de variação explicada por cada fator."
   ]
  },
  {
   "cell_type": "code",
   "execution_count": 35,
   "id": "2fb48514",
   "metadata": {},
   "outputs": [
    {
     "name": "stdout",
     "output_type": "stream",
     "text": [
      "Frações de Variação por fator:\n",
      "Fator A: 60.5/155.5 (39%)\n",
      "Fator B: 0.5/155.5 (0%)\n",
      "Fator C: 40.5/155.5 (26%)\n",
      "Fator AB: 40.5/155.5 (26%)\n",
      "Fator AC: 12.5/155.5 (8%)\n",
      "Fator BC: 0.5/155.5 (0%)\n",
      "Fator ABC: 0.5/155.5 (0%)\n"
     ]
    }
   ],
   "source": [
    "results = [np.mean(result) for result in results]\n",
    "\n",
    "mean = np.mean(results)\n",
    "sst = sum([(y - mean)**2 for y in results])\n",
    "all_factors = factors + [\"\".join(map(str,combination)) for combination in factors_combinations]\n",
    "totals = []\n",
    "\n",
    "print('Frações de Variação por fator:')\n",
    "\n",
    "for factor in all_factors:\n",
    "    total_factor = np.dot(signal_table[factor].to_numpy(), np.array(results))\n",
    "    totals.append(total_factor)\n",
    "    frac = 2**k*((total_factor/2**k)**2)\n",
    "    print(f'Fator {factor}: {frac}/{sst} ({round(100*frac/sst)}%)')"
   ]
  },
  {
   "cell_type": "code",
   "execution_count": 36,
   "id": "d4f0b3ec",
   "metadata": {},
   "outputs": [
    {
     "name": "stdout",
     "output_type": "stream",
     "text": [
      "   I  A  B  C  AB  AC  BC  ABC     y\n",
      "0  1 -1 -1 -1   1   1   1   -1  [14]\n",
      "1  1 -1 -1  1   1  -1  -1    1  [22]\n",
      "2  1 -1  1 -1  -1   1  -1    1  [10]\n",
      "3  1 -1  1  1  -1  -1   1   -1  [16]\n",
      "4  1  1 -1 -1  -1  -1   1    1  [18]\n",
      "5  1  1 -1  1  -1   1  -1   -1  [20]\n",
      "6  1  1  1 -1   1  -1  -1   -1  [22]\n",
      "7  1  1  1  1   1   1   1    1  [24]\n",
      "Total:  [22.0, -2.0, 18.0, 18.0, -10.0, -2.0, 2.0]\n",
      "Total/8:  [2.75, -0.25, 2.25, 2.25, -1.25, -0.25, 0.25]\n"
     ]
    }
   ],
   "source": [
    "print(signal_table)\n",
    "print('Total: ', totals)\n",
    "print(f'Total/{2**k}: ', list(map(lambda t: t/2**k, totals)))"
   ]
  },
  {
   "cell_type": "markdown",
   "id": "4c6d2195",
   "metadata": {},
   "source": [
    "## Conclusão\n",
    "No Projeto de Experimentos $2^{k}$, o número de pontos experimentais cresce numa progressão geométrica de razão 2. Ele é útil para investigar simultaneamente vários fatores para posteriormente afunilar a investigação naqueles que se mostrarem mais relevantes."
   ]
  }
 ],
 "metadata": {
  "kernelspec": {
   "display_name": "Python 3 (ipykernel)",
   "language": "python",
   "name": "python3"
  },
  "language_info": {
   "codemirror_mode": {
    "name": "ipython",
    "version": 3
   },
   "file_extension": ".py",
   "mimetype": "text/x-python",
   "name": "python",
   "nbconvert_exporter": "python",
   "pygments_lexer": "ipython3",
   "version": "3.8.10"
  }
 },
 "nbformat": 4,
 "nbformat_minor": 5
}
