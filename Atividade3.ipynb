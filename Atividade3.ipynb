{
 "cells": [
  {
   "cell_type": "markdown",
   "id": "e9643fb6",
   "metadata": {},
   "source": [
    "<div style=\"width: 100%; margin-left: auto; margin-right: auto;\">\n",
    "    <h2 style=\"text-align: center; margin-top: 1%; font-size:32px;\">Avaliação de Desempenho - Atividade 3</h2>\n",
    "</div>"
   ]
  },
  {
   "cell_type": "markdown",
   "id": "d2e5965f",
   "metadata": {},
   "source": [
    "**Aluno:** Igor Carvalho da Silva  \n",
    "**Email:** igor.carvalho@icomp.ufam.edu.br  \n",
    "**Matrícula:** 21951288  \n",
    "\n",
    "---"
   ]
  },
  {
   "cell_type": "markdown",
   "id": "9f640ab8",
   "metadata": {},
   "source": [
    "## Introdução\n",
    "As filas têm uma frequente incidência no cotidiano, seja de uma forma mais perceptível como na compra de ingressos para um show ou cinema, em uma sala de espera de um consultório, ou ainda, de uma forma menos perceptível como no gerenciamento de documentos a serem impressos ou no buffer para gravação de dados em mídia. As filas são fenômenos naturais em um mundo compartilhado, além de ser uma das estruturas de dados mais utilizada na área de Computação.\n",
    "\n",
    "Nesta atividade simulamos a dinâmica de uma fila M/M/1 a fim de estimar o tempo médio $\\bar{X}(n)$ de espera de um cliente na fila. Para isso, foi realizada uma Simulação de Horizonte Infinito, onde o fim da simulação ocorre quando uma determinada condição acontece, neste experimento foi usado o Tamanho Relativo que leva em consideração o tamanho relativo do intervalo de confiança em relação ao valor sendo estimado.\n",
    "\n",
    "Com isso, o experimento desta atividade consistiu em executar a simulação para 4 cenários mudando o valor da taxa de chegada entre os clientes."
   ]
  },
  {
   "cell_type": "markdown",
   "id": "5da57d59",
   "metadata": {},
   "source": [
    "## Experimento\n",
    "\n",
    "* Executar uma simulação de horizonte infinito para estimar o tempo médio de espera em uma fila M/M/1.\n",
    "* Eliminar o transiente usando a heurística MSER -5Y.\n",
    "* Estimar o tempo médio de espera na fila e o respectivo intervalo de confiança de 95%.\n",
    "* A regra de parada é a precisão relativa de 5%.\n",
    "    * Cenário I: $\\lambda$ =7 clientes por segundo; $\\mu$ =10 clientes por segundo.\n",
    "    * Cenário II: $\\lambda$ =8 clientes por segundo; $\\mu$ =10 clientes por segundo.\n",
    "    * Cenário III: $\\lambda$ =9 clientes por segundo; $\\mu$ =10 clientes por segundo.\n",
    "    * Cenário IV: $\\lambda$ =9,5 clientes por segundo; $\\mu$ =10 clientes por segundo.\n",
    "* Plotar um gráfico comparativo dos quatro cenários.\n",
    "* Plotar uma linha horizontal para o valor teórico esperado em cada cenário.\n",
    "\n",
    "### Dependências\n",
    "Para reproduzir o experimento é necessário ter o `pip` instalado ou já possuir as bibliotecas instaladas."
   ]
  },
  {
   "cell_type": "code",
   "execution_count": 1,
   "id": "9317fa57",
   "metadata": {},
   "outputs": [
    {
     "name": "stdout",
     "output_type": "stream",
     "text": [
      "Requirement already satisfied: numpy in /home/igor/.local/lib/python3.8/site-packages (1.22.4)\n",
      "Requirement already satisfied: tqdm in /home/igor/.local/lib/python3.8/site-packages (4.64.0)\n",
      "Requirement already satisfied: scipy in /home/igor/.local/lib/python3.8/site-packages (1.9.3)\n",
      "Requirement already satisfied: numpy<1.26.0,>=1.18.5 in /home/igor/.local/lib/python3.8/site-packages (from scipy) (1.22.4)\n",
      "Requirement already satisfied: statistics in /home/igor/.local/lib/python3.8/site-packages (1.0.3.5)\n",
      "Requirement already satisfied: docutils>=0.3 in /home/igor/.local/lib/python3.8/site-packages (from statistics) (0.19)\n",
      "Requirement already satisfied: matplotlib in /home/igor/.local/lib/python3.8/site-packages (3.6.2)\n",
      "Requirement already satisfied: pillow>=6.2.0 in /home/igor/.local/lib/python3.8/site-packages (from matplotlib) (9.3.0)\n",
      "Requirement already satisfied: numpy>=1.19 in /home/igor/.local/lib/python3.8/site-packages (from matplotlib) (1.22.4)\n",
      "Requirement already satisfied: kiwisolver>=1.0.1 in /home/igor/.local/lib/python3.8/site-packages (from matplotlib) (1.4.4)\n",
      "Requirement already satisfied: cycler>=0.10 in /home/igor/.local/lib/python3.8/site-packages (from matplotlib) (0.11.0)\n",
      "Requirement already satisfied: fonttools>=4.22.0 in /home/igor/.local/lib/python3.8/site-packages (from matplotlib) (4.38.0)\n",
      "Requirement already satisfied: contourpy>=1.0.1 in /home/igor/.local/lib/python3.8/site-packages (from matplotlib) (1.0.6)\n",
      "Requirement already satisfied: pyparsing>=2.2.1 in /home/igor/.local/lib/python3.8/site-packages (from matplotlib) (3.0.9)\n",
      "Requirement already satisfied: python-dateutil>=2.7 in /home/igor/.local/lib/python3.8/site-packages (from matplotlib) (2.8.2)\n",
      "Requirement already satisfied: packaging>=20.0 in /home/igor/.local/lib/python3.8/site-packages (from matplotlib) (22.0)\n",
      "Requirement already satisfied: six>=1.5 in /usr/lib/python3/dist-packages (from python-dateutil>=2.7->matplotlib) (1.14.0)\n"
     ]
    }
   ],
   "source": [
    "!pip3 install numpy\n",
    "!pip3 install tqdm\n",
    "!pip3 install scipy\n",
    "!pip3 install statistics\n",
    "!pip3 install matplotlib"
   ]
  },
  {
   "cell_type": "markdown",
   "id": "45edd7cc",
   "metadata": {},
   "source": [
    "### Imports"
   ]
  },
  {
   "cell_type": "code",
   "execution_count": 2,
   "id": "5d1b8ce8",
   "metadata": {},
   "outputs": [],
   "source": [
    "import random\n",
    "import numpy as np\n",
    "import matplotlib.pyplot as plt\n",
    "from statistics import pstdev\n",
    "from scipy.stats import t\n",
    "from math import sqrt, ceil\n",
    "from tqdm import tqdm"
   ]
  },
  {
   "cell_type": "markdown",
   "id": "d050275b",
   "metadata": {},
   "source": [
    "### Funções "
   ]
  },
  {
   "cell_type": "code",
   "execution_count": 3,
   "id": "d68cf060",
   "metadata": {},
   "outputs": [],
   "source": [
    "def generate_exponential_VA(beta):\n",
    "    return -beta * np.log(1-random.random())\n",
    "\n",
    "def waiting_times_generator(N, lambda_, mu, debug=False):\n",
    "    arrival_time = 0\n",
    "    exit_time = 0\n",
    "    waiting_times = []\n",
    "    if debug:\n",
    "        print(f'Simulação para {N} clientes')\n",
    "\n",
    "    for _ in tqdm(range(N), disable=not debug):\n",
    "        arrival_time += generate_exponential_VA(1/lambda_)\n",
    "        service_time = generate_exponential_VA(1/mu)\n",
    "\n",
    "        if arrival_time >= exit_time:\n",
    "            waiting_times.append(0)\n",
    "            exit_time = arrival_time + service_time\n",
    "        else:\n",
    "            waiting_times.append(exit_time - arrival_time)\n",
    "            exit_time += service_time\n",
    "\n",
    "    return waiting_times\n",
    "\n",
    "def metrics(waiting_times, debug=False):\n",
    "    if debug:\n",
    "        print('Gerando métricas ... ', end='')\n",
    "    mean = np.mean(waiting_times)\n",
    "    standard_deviation = pstdev(waiting_times)\n",
    "    t_ = t.ppf(0.95, N-1)\n",
    "    h = (t_ * standard_deviation) / sqrt(N)\n",
    "    if debug:\n",
    "        print('done!')\n",
    "    \n",
    "    return (mean, h)\n",
    "\n",
    "def mser5(k,d,z):\n",
    "    z_mean = round(sum(z[d:k])/(k-d),5)\n",
    "    variance = sum([(zj-z_mean)**2 for zj in z[d:k]])/(k-d)\n",
    "    std_deviation = sqrt(variance)\n",
    "    \n",
    "    return std_deviation/sqrt(k-d)\n",
    "\n",
    "def mser_validation(results, progress):\n",
    "    mser_left = results[:-progress]\n",
    "    mser_right = results[-progress:]\n",
    "    \n",
    "    mser_left.sort()\n",
    "    if(mser_left[0][0] == mser_left[1][0]):\n",
    "        return (False, -1)\n",
    "    \n",
    "    mser_right.sort()\n",
    "    if(mser_right[0][0] < mser_left[0][0]):\n",
    "        return (False, -1)\n",
    "    \n",
    "    return (True, mser_left[0][1])\n",
    "    \n",
    "def mser5y(observations, progress = 0.0):\n",
    "    results = []\n",
    "    k = len(observations)//5\n",
    "    z_series = [np.mean(observations[i:i+5]) for i in range(0, len(observations), 5)]\n",
    "    \n",
    "    right_blocks = ceil(k*progress)\n",
    "    for d in range(k//2 + right_blocks):\n",
    "        results.append((mser5(k,d,z_series),d))\n",
    "    \n",
    "    is_valid, trunc_point = mser_validation(results, right_blocks)\n",
    "    \n",
    "    if is_valid:\n",
    "        return trunc_point*5\n",
    "    else:\n",
    "        return -1\n",
    "    \n",
    "def mm1_simulator(N, lambda_, mu):\n",
    "    waiting_times = []\n",
    "    while True:\n",
    "        waiting_times += waiting_times_generator(N, lambda_, mu)\n",
    "        trunc_point = mser5y(waiting_times, progress=0.01)\n",
    "\n",
    "        if trunc_point != -1:\n",
    "            return waiting_times[trunc_point:]"
   ]
  },
  {
   "cell_type": "markdown",
   "id": "70b14c54",
   "metadata": {},
   "source": [
    "### Simulação"
   ]
  },
  {
   "cell_type": "code",
   "execution_count": 4,
   "id": "2fd7bba8",
   "metadata": {},
   "outputs": [],
   "source": [
    "#(lambda, mu)\n",
    "scenarios = [\n",
    "    (7, 10),\n",
    "    (8, 10),\n",
    "    (9, 10),\n",
    "    (9.5, 10)\n",
    "]\n",
    "\n",
    "expected_means = [lambda_/mu*((1/mu)/(1-lambda_/mu)) for lambda_, mu in scenarios]"
   ]
  },
  {
   "cell_type": "code",
   "execution_count": 9,
   "id": "928ef32f",
   "metadata": {},
   "outputs": [],
   "source": [
    "results = []\n",
    "for lambda_, mu in scenarios:\n",
    "    N = 1000\n",
    "    while True:\n",
    "        waiting_times = mm1_simulator(N, lambda_, mu)\n",
    "        mean, h = metrics(waiting_times)\n",
    "        relative_size = h/mean\n",
    "    \n",
    "        if relative_size <= 0.05:\n",
    "            break;\n",
    "        N = N*2\n",
    "    results.append((mean, h))"
   ]
  },
  {
   "cell_type": "markdown",
   "id": "2bfca824",
   "metadata": {},
   "source": [
    "### Resultados"
   ]
  },
  {
   "cell_type": "code",
   "execution_count": 10,
   "id": "4cfae43b",
   "metadata": {},
   "outputs": [
    {
     "data": {
      "text/plain": [
       "[(0.26573671097533974, 0.012687837771483213),\n",
       " (0.23138621652511207, 0.009280816300015024),\n",
       " (0.6944858662112624, 0.02483676529809642),\n",
       " (1.5733122406117492, 0.057199949634241354)]"
      ]
     },
     "execution_count": 10,
     "metadata": {},
     "output_type": "execute_result"
    }
   ],
   "source": [
    "results"
   ]
  },
  {
   "cell_type": "code",
   "execution_count": 11,
   "id": "50d14e53",
   "metadata": {},
   "outputs": [
    {
     "data": {
      "text/plain": [
       "[0.2333333333333333,\n",
       " 0.40000000000000013,\n",
       " 0.9000000000000002,\n",
       " 1.8999999999999984]"
      ]
     },
     "execution_count": 11,
     "metadata": {},
     "output_type": "execute_result"
    }
   ],
   "source": [
    "expected_means"
   ]
  },
  {
   "cell_type": "code",
   "execution_count": 12,
   "id": "bf3a8547",
   "metadata": {},
   "outputs": [
    {
     "data": {
      "image/png": "[encoded data removed]",
      "text/plain": [
       "<Figure size 640x480 with 1 Axes>"
      ]
     },
     "metadata": {},
     "output_type": "display_data"
    }
   ],
   "source": [
    "fig, ax = plt.subplots()\n",
    "\n",
    "avgs, error_margin = zip(*results)\n",
    "colors = ['red', 'blue', 'green', 'brown']\n",
    "x = [1,2,3,4]\n",
    "\n",
    "for pos, y, err, color, expected in zip(x, avgs,  error_margin, colors, expected_means): \n",
    "    ax.errorbar(pos, y, yerr=err, fmt='o', c=color, mec='black', ms=7, ecolor='black', capsize=5)\n",
    "    ax.axhline(y=expected, c=color, linestyle='--', label=f'Média esperada C-{pos}')\n",
    "\n",
    "plt.xticks([1,2,3,4], ['C-1','C-2','C-3','C-4'])\n",
    "plt.margins(0.2)\n",
    "plt.ylabel('Tempo médio de espera', fontsize=14)\n",
    "plt.xlabel('Cenários', fontsize=14)\n",
    "plt.legend(loc='center left', bbox_to_anchor=(1, 0.5))\n",
    "\n",
    "plt.show()"
   ]
  },
  {
   "cell_type": "markdown",
   "id": "e2590b54",
   "metadata": {},
   "source": [
    "## Conclusão\n",
    "A partir da análise dos resultados que estão plotados no Gráfico, podemos observar que com o crescimento da taxa de chegada dos clientes e o valor constante no tempo de serviço, os valores observados ficaram cada vez mais distantes da média esperada."
   ]
  }
 ],
 "metadata": {
  "kernelspec": {
   "display_name": "Python 3 (ipykernel)",
   "language": "python",
   "name": "python3"
  },
  "language_info": {
   "codemirror_mode": {
    "name": "ipython",
    "version": 3
   },
   "file_extension": ".py",
   "mimetype": "text/x-python",
   "name": "python",
   "nbconvert_exporter": "python",
   "pygments_lexer": "ipython3",
   "version": "3.8.10"
  }
 },
 "nbformat": 4,
 "nbformat_minor": 5
}
